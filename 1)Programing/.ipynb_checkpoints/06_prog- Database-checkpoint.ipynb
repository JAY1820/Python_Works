{
 "cells": [
  {
   "cell_type": "code",
   "execution_count": 7,
   "metadata": {},
   "outputs": [
    {
     "name": "stdout",
     "output_type": "stream",
     "text": [
      "ok done\n"
     ]
    }
   ],
   "source": [
    "import mysql.connector\n",
    "print(\"ok done\")"
   ]
  },
  {
   "cell_type": "code",
   "execution_count": 31,
   "metadata": {
    "scrolled": true
   },
   "outputs": [
    {
     "name": "stdout",
     "output_type": "stream",
     "text": [
      "[('dbms',), ('information_schema',), ('java',), ('mysql',), ('performance_schema',), ('sys',)]\n"
     ]
    }
   ],
   "source": [
    "import mysql.connector as alias\n",
    "con = alias.connect(host=\"localhost\",user=\"root\",password=\"2001\")\n",
    "cursor=con.cursor()\n",
    "cursor.execute(\"SHOW DATABASES\")\n",
    "database=cursor.fetchall()\n",
    "print(database)"
   ]
  },
  {
   "cell_type": "code",
   "execution_count": 32,
   "metadata": {},
   "outputs": [
    {
     "name": "stdout",
     "output_type": "stream",
     "text": [
      "('information_schema',)\n",
      "('java',)\n",
      "('mysql',)\n",
      "('performance_schema',)\n",
      "('sys',)\n"
     ]
    }
   ],
   "source": [
    "import mysql.connector as alias\n",
    "con = alias.connect(host=\"localhost\",user=\"root\",password=\"2001\")\n",
    "cursor=con.cursor()\n",
    "cursor.execute(\"SHOW DATABASES\")\n",
    "database=cursor.fetchone()\n",
    "for i in cursor:\n",
    "    print(i)"
   ]
  },
  {
   "cell_type": "code",
   "execution_count": null,
   "metadata": {},
   "outputs": [],
   "source": [
    "#create database\n",
    "from mysql.connector import connect,error\n",
    "try:\n",
    "    con=connect(host=\"localhost\",user=\"root\",password=\"2001\")\n",
    "    cursor=con.cursor()\n",
    "    cursor.execute(\"create databse db\")\n",
    "    print(\"ok done\")\n",
    "    \n",
    "    exception as e:\n",
    "        print(e)\n",
    "    else:\n",
    "        cursor.close()\n",
    "        con.close()\n",
    "    "
   ]
  }
 ],
 "metadata": {
  "kernelspec": {
   "display_name": "Python 3 (ipykernel)",
   "language": "python",
   "name": "python3"
  },
  "language_info": {
   "codemirror_mode": {
    "name": "ipython",
    "version": 3
   },
   "file_extension": ".py",
   "mimetype": "text/x-python",
   "name": "python",
   "nbconvert_exporter": "python",
   "pygments_lexer": "ipython3",
   "version": "3.11.1"
  }
 },
 "nbformat": 4,
 "nbformat_minor": 2
}
