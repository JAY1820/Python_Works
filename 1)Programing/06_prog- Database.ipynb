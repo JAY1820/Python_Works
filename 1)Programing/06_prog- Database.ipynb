{
 "cells": [
  {
   "cell_type": "code",
   "execution_count": 7,
   "metadata": {},
   "outputs": [
    {
     "name": "stdout",
     "output_type": "stream",
     "text": [
      "ok done\n"
     ]
    }
   ],
   "source": [
    "import mysql.connector\n",
    "print(\"ok done\")"
   ]
  },
  {
   "cell_type": "code",
   "execution_count": 31,
   "metadata": {
    "scrolled": true
   },
   "outputs": [
    {
     "name": "stdout",
     "output_type": "stream",
     "text": [
      "[('dbms',), ('information_schema',), ('java',), ('mysql',), ('performance_schema',), ('sys',)]\n"
     ]
    }
   ],
   "source": [
    "import mysql.connector as alias\n",
    "con = alias.connect(host=\"localhost\",user=\"root\",password=\"2001\")\n",
    "cursor=con.cursor()\n",
    "cursor.execute(\"SHOW DATABASES\")\n",
    "database=cursor.fetchall()\n",
    "print(database)"
   ]
  },
  {
   "cell_type": "code",
   "execution_count": 32,
   "metadata": {},
   "outputs": [
    {
     "name": "stdout",
     "output_type": "stream",
     "text": [
      "('information_schema',)\n",
      "('java',)\n",
      "('mysql',)\n",
      "('performance_schema',)\n",
      "('sys',)\n"
     ]
    }
   ],
   "source": [
    "import mysql.connector as alias\n",
    "con = alias.connect(host=\"localhost\",user=\"root\",password=\"2001\")\n",
    "cursor=con.cursor()\n",
    "cursor.execute(\"SHOW DATABASES\")\n",
    "database=cursor.fetchone()\n",
    "for i in cursor:\n",
    "    print(i)"
   ]
  },
  {
   "cell_type": "code",
   "execution_count": 35,
   "metadata": {},
   "outputs": [
    {
     "ename": "IndentationError",
     "evalue": "unindent does not match any outer indentation level (<tokenize>, line 10)",
     "output_type": "error",
     "traceback": [
      "\u001b[1;36m  File \u001b[1;32m<tokenize>:10\u001b[1;36m\u001b[0m\n\u001b[1;33m    else:\u001b[0m\n\u001b[1;37m    ^\u001b[0m\n\u001b[1;31mIndentationError\u001b[0m\u001b[1;31m:\u001b[0m unindent does not match any outer indentation level\n"
     ]
    }
   ],
   "source": [
    "#create database\n",
    "from mysql.connector import connect,error\n",
    "try:\n",
    "    con=connect(host=\"localhost\",user=\"root\",password=\"2001\")\n",
    "    cursor=con.cursor()\n",
    "    cursor.execute(\"create databse db\")\n",
    "    print(\"ok done\")\n",
    "exception as e:\n",
    "        print(e)\n",
    "    else:\n",
    "        cursor.close()\n",
    "        con.close()\n",
    "    "
   ]
  },
  {
   "cell_type": "code",
   "execution_count": null,
   "metadata": {},
   "outputs": [],
   "source": []
  }
 ],
 "metadata": {
  "kernelspec": {
   "display_name": "Python 3 (ipykernel)",
   "language": "python",
   "name": "python3"
  },
  "language_info": {
   "codemirror_mode": {
    "name": "ipython",
    "version": 3
   },
   "file_extension": ".py",
   "mimetype": "text/x-python",
   "name": "python",
   "nbconvert_exporter": "python",
   "pygments_lexer": "ipython3",
   "version": "3.11.1"
  }
 },
 "nbformat": 4,
 "nbformat_minor": 2
}
