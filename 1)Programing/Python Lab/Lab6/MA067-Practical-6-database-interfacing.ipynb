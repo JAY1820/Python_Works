{
 "cells": [
  {
   "cell_type": "markdown",
   "metadata": {},
   "source": [
    "### Exercises"
   ]
  },
  {
   "cell_type": "markdown",
   "metadata": {},
   "source": [
    "### 1.Create connection to the mysql on localhost."
   ]
  },
  {
   "cell_type": "code",
   "execution_count": null,
   "metadata": {},
   "outputs": [],
   "source": [
    "from mysql.connector import connect, Error\n",
    "try:\n",
    "    con=connect(host=\"localhost\",user=\"root\",password=\"2282001\")\n",
    "    print(\"Connection Established\")\n",
    "except Error as e:\n",
    "    print(\"Error while connecting to MySQL\", e)"
   ]
  },
  {
   "cell_type": "markdown",
   "metadata": {},
   "source": [
    "### 2.List all the databases available in your system."
   ]
  },
  {
   "cell_type": "code",
   "execution_count": null,
   "metadata": {},
   "outputs": [],
   "source": [
    "try:\n",
    "    cursor=con.cursor()\n",
    "    cursor.execute(\"Show databases\")\n",
    "    print(\"Databases are: \")\n",
    "    for i in cursor:\n",
    "        print(i)\n",
    "except Error as e:\n",
    "    print(e)"
   ]
  },
  {
   "cell_type": "markdown",
   "metadata": {},
   "source": [
    "### 3. Create a database dbStudent. Connect to it."
   ]
  },
  {
   "cell_type": "code",
   "execution_count": null,
   "metadata": {},
   "outputs": [],
   "source": [
    "try:\n",
    "    cursor.execute(\"Create database dbStudent\")\n",
    "    print(\"Database created\")\n",
    "    cursor.execute(\"use dbStudent\")\n",
    "except Error as e:\n",
    "    print(e)\n"
   ]
  },
  {
   "cell_type": "markdown",
   "metadata": {},
   "source": [
    "### 4.Create a table tblStudent with columns of suitable type: rollno, name, birthdate, gender, cmarks, cppmarks, pythonmarks,totalmarks, percentage and grade."
   ]
  },
  {
   "cell_type": "code",
   "execution_count": null,
   "metadata": {},
   "outputs": [],
   "source": [
    "#Create a table tblStudent with columns of suitable type: rollno, name, birthdate, gender, cmarks, cppmarks, pythonmarks,totalmarks, percentage and grade.\n",
    "try:\n",
    "    cursor.execute(\"use dbStudent\")\n",
    "    sql=\"\"\"\n",
    "    create table tblStudent(\n",
    "        rollno int primary key,\n",
    "        name varchar(20),\n",
    "        birthdate date,\n",
    "        gender varchar(10),\n",
    "        cmarks int,\n",
    "        cppmarks int,\n",
    "        pythonmarks int,\n",
    "        totalmarks int,\n",
    "        percentage decimal(5,2),\n",
    "        grade varchar(2))\"\"\"\n",
    "    cursor.execute(sql)\n",
    "    print(\"Table created\")\n",
    "except Error as e:\n",
    "    print(e)\n"
   ]
  },
  {
   "cell_type": "markdown",
   "metadata": {},
   "source": [
    "### 5.Insert at least 10 rows (only rollno, name, birthdate, gender, cmarks, cppmarks, pythonmarks) into tblStudent. Use different ways for the same (as shown in various examples shown above)."
   ]
  },
  {
   "cell_type": "code",
   "execution_count": null,
   "metadata": {},
   "outputs": [],
   "source": [
    "# Insert at least 10 rows (only rollno, name, birthdate, gender, cmarks, cppmarks, pythonmarks) into tblStudent. Use different ways for the same (as shown in various examples shown above).\n",
    "try:\n",
    "    sql=\"insert into tblStudent(rollno, name, birthdate, gender, cmarks, cppmarks, pythonmarks) values(5,'Bharat','2000-12-21','Male',70,89,50)\"\n",
    "    cursor.execute(sql)\n",
    "    con.commit()\n",
    "    sql=\"insert into tblStudent(rollno, name, birthdate, gender, cmarks, cppmarks, pythonmarks) values(%s,%s,%s,%s,%s,%s,%s)\"\n",
    "    val=[\n",
    "        (1,\"Ram\",\"0001-01-01\",\"Male\",90,80,70),\n",
    "         (2,\"Sita\",\"0001-01-02\",\"Female\",80,70,60),\n",
    "         (3,\"laxman\",\"2002-12-21\",\"Male\",70,60,50)\n",
    "            (4,\"Hanuman\",\"1972-01-21\",\"Male\",94,60,48),\n",
    "            (7,\"Shatrughan\",'1972-01-21',\"Male\",94,60,48),\n",
    "            (6,\"Sugariv\",'1920-03-23',\"Male\",54,68,48),\n",
    "            (8,'Raghu','1923-02-12','Male',84,60,88),\n",
    "            (9,'Dasharath','1912-12-22',\"Male\",94,60,48),\n",
    "            (10,'Kaushlya','1948-12-03','Female',87,90,78)\n",
    "            (11,'Kaikai','1923-04-22','Female',45,34,32),\n",
    "            (12,'Manthra','1023-09-23','Female',34,50,32),\n",
    "         ]\n",
    "    cursor.executemany(sql,val)\n",
    "    con.commit()\n",
    "    print(\"Data inserted\")\n",
    "except Error as e:\n",
    "    print(e)\n"
   ]
  },
  {
   "cell_type": "markdown",
   "metadata": {},
   "source": [
    "### 6.Print all rows (only rollno, name, birthdate, gender, cmarks, cppmarks, pythonmarks) on screen (as shown in various examples shown above)."
   ]
  },
  {
   "cell_type": "code",
   "execution_count": null,
   "metadata": {},
   "outputs": [],
   "source": [
    "try:\n",
    "    sql=\"select rollno, name, birthdate, gender, cmarks, cppmarks, pythonmarks from tblStudent\"\n",
    "    cursor.execute(\"use dbStudent\")\n",
    "    cursor.execute(sql)\n",
    "    print(\"Data from table\")\n",
    "    for i in cursor:\n",
    "        print(i)\n",
    "except Error as e:\n",
    "    print(e)"
   ]
  },
  {
   "cell_type": "markdown",
   "metadata": {},
   "source": [
    "### 7.Compute & update totalmarks for all rows in table."
   ]
  },
  {
   "cell_type": "code",
   "execution_count": null,
   "metadata": {},
   "outputs": [],
   "source": [
    "try:\n",
    "    sql=\"update tblStudent set totalmarks=cmarks+cppmarks+pythonmarks\"\n",
    "    cursor.execute(sql)\n",
    "    con.commit()\n",
    "    print(\"Total marks updated\")\n",
    "except Error as e:\n",
    "    print(e)    "
   ]
  },
  {
   "cell_type": "markdown",
   "metadata": {},
   "source": [
    "### 8.Compute & update percentage for all rows in table."
   ]
  },
  {
   "cell_type": "code",
   "execution_count": null,
   "metadata": {},
   "outputs": [],
   "source": [
    "try:\n",
    "    sql=\"update tblStudent set percentage=(totalmarks/3)\"\n",
    "    cursor.execute(sql)\n",
    "    con.commit()\n",
    "    print(\"Percentage updated\")\n",
    "except Error as e:\n",
    "    print(e)\n",
    "    "
   ]
  },
  {
   "cell_type": "markdown",
   "metadata": {},
   "source": [
    "### 9.Compute & update grade for all rows in table."
   ]
  },
  {
   "cell_type": "code",
   "execution_count": null,
   "metadata": {},
   "outputs": [],
   "source": [
    "try:\n",
    "    sql=\"update tblStudent set grade=case when percentage>=90 then 'A+' when percentage>=80 then 'A' when percentage>=70 then 'B+' when percentage>=60 then 'B' when percentage>=50 then 'C+' when percentage>=40 then 'C' else 'F' end\"\n",
    "    cursor.execute(sql)\n",
    "    con.commit()\n",
    "    print(\"Grade updated\")\n",
    "except Error as e:\n",
    "    print(e)"
   ]
  },
  {
   "cell_type": "markdown",
   "metadata": {},
   "source": [
    "### 10.Print all rows (all columns)."
   ]
  },
  {
   "cell_type": "code",
   "execution_count": null,
   "metadata": {},
   "outputs": [],
   "source": [
    "try:\n",
    "    sql=\"select * from tblStudent\"\n",
    "    cursor.execute(sql)\n",
    "    print(\"Data from table\")\n",
    "    for i in cursor:\n",
    "        print(i)\n",
    "except Error as e:\n",
    "    print(e)"
   ]
  },
  {
   "cell_type": "markdown",
   "metadata": {},
   "source": [
    "### 11.Print all rows with only columns: rollno, name, percentage and grade."
   ]
  },
  {
   "cell_type": "code",
   "execution_count": null,
   "metadata": {},
   "outputs": [],
   "source": [
    "try:\n",
    "    sql=\"select rollno, name, percentage, grade from tblStudent\"\n",
    "    cursor.execute(sql)\n",
    "    print(\"Data from table\")\n",
    "    for i in cursor:\n",
    "        print(i)\n",
    "except Error as e:\n",
    "    print(e)\n"
   ]
  },
  {
   "cell_type": "markdown",
   "metadata": {},
   "source": [
    "### 12.Print merit list."
   ]
  },
  {
   "cell_type": "code",
   "execution_count": null,
   "metadata": {},
   "outputs": [],
   "source": [
    "try:\n",
    "    sql=\"select rollno,name,percentage,grade from tblStudent order by percentage desc\"\n",
    "    cursor.execute(sql)\n",
    "    print(\"Data from table\")\n",
    "    merit=1\n",
    "    for i in cursor:\n",
    "        print(merit,i)\n",
    "        merit+=1\n",
    "except Error as e:\n",
    "    print(e)\n"
   ]
  },
  {
   "cell_type": "markdown",
   "metadata": {},
   "source": [
    "### 13.Print first two toppers."
   ]
  },
  {
   "cell_type": "code",
   "execution_count": null,
   "metadata": {},
   "outputs": [],
   "source": [
    "try:\n",
    "    sql=\"\"\"select rollno,name,percentage,grade from tblStudent WHERE percentage >= (\n",
    "    SELECT MAX(percentage)\n",
    "    FROM tblStudent\n",
    "    WHERE percentage NOT IN (\n",
    "        SELECT MAX(percentage)\n",
    "        FROM tblStudent\n",
    "    )) order by percentage desc\"\"\"\n",
    "    cursor.execute(sql)\n",
    "    print(\"Two toppers are\")\n",
    "    merit=1\n",
    "    for i in cursor:\n",
    "        print(merit,i)\n",
    "        merit+=1\n",
    "        if merit==3:\n",
    "            break\n",
    "except Error as e:\n",
    "    print(e)"
   ]
  },
  {
   "cell_type": "markdown",
   "metadata": {},
   "source": [
    "### 14.Print girl students who have failed in at least two subjects."
   ]
  },
  {
   "cell_type": "code",
   "execution_count": null,
   "metadata": {},
   "outputs": [],
   "source": [
    "try:\n",
    "    sql=\"select * from tblStudent where ((cppmarks<40 and pythonmarks<40 or cmarks<40) or (pythonmarks<40 or cmarks<40 and cppmarks<40) or (cmarks<40 or pythonmarks<40 and cppmarks<40)) and gender='Female'\" \n",
    "    cursor.execute(sql)\n",
    "    print(\"Data from table\")\n",
    "    for i in cursor:\n",
    "        print(i)\n",
    "except Error as e:\n",
    "    print(e)"
   ]
  },
  {
   "cell_type": "markdown",
   "metadata": {},
   "source": [
    "### 15.Print youngest female topper."
   ]
  },
  {
   "cell_type": "code",
   "execution_count": null,
   "metadata": {},
   "outputs": [],
   "source": [
    "try:\n",
    "    sql=\"select rollno,name,percentage from tblStudent where percentage in(select max(percentage) from tblStudent where birthdate in (select max(birthdate) from tblStudent where gender='Female' ))\"\n",
    "    cursor.execute(sql)\n",
    "    print(\"Data from table\")\n",
    "    for i in cursor:\n",
    "        print(i)\n",
    "except Error as e:\n",
    "    print(e)"
   ]
  },
  {
   "cell_type": "markdown",
   "metadata": {},
   "source": [
    "### 16. Print oldest male topper."
   ]
  },
  {
   "cell_type": "code",
   "execution_count": null,
   "metadata": {},
   "outputs": [],
   "source": [
    "try:\n",
    "    sql=\"select rollno,name,percentage from tblStudent where percentage in(select max(percentage) from tblStudent where birthdate in (select min(birthdate) from tblStudent where gender='Male' ))\"\n",
    "    cursor.execute(sql)\n",
    "    print(\"Data from table\")\n",
    "    for i in cursor:\n",
    "        print(i)\n",
    "except Error as e:\n",
    "    print(e)\n",
    "    "
   ]
  },
  {
   "cell_type": "markdown",
   "metadata": {},
   "source": [
    "### 17.Change birth month to January who were born in December."
   ]
  },
  {
   "cell_type": "code",
   "execution_count": null,
   "metadata": {},
   "outputs": [],
   "source": [
    "try:\n",
    "    sql=\"update tblStudent set birthdate=replace(birthdate,'-12-','-01-') where month(birthdate)=12\"\n",
    "    cursor.execute(sql)\n",
    "    con.commit()\n",
    "    print(\"Birthdate updated\")\n",
    "except Error as e:\n",
    "    print(e)"
   ]
  },
  {
   "cell_type": "markdown",
   "metadata": {},
   "source": [
    "### 18.Change birthdate of topper student as 01-01-2000."
   ]
  },
  {
   "cell_type": "code",
   "execution_count": null,
   "metadata": {},
   "outputs": [],
   "source": [
    "try:\n",
    "    # sql=\"update tblStudent set birthdate='2000-01-01' where percentage =(select max(percentage) from tblStudent)\"\n",
    "    sql='''\n",
    "    WITH MaxPercentage AS (\n",
    "    SELECT MAX(percentage) AS max_percentage\n",
    "    FROM tblStudent\n",
    "    )\n",
    "    UPDATE tblStudent\n",
    "    SET birthdate = '2000-01-01'\n",
    "    WHERE percentage = (SELECT max_percentage FROM MaxPercentage);\n",
    "    '''\n",
    "    cursor.execute(sql)\n",
    "    con.commit()\n",
    "    print(\"Birthdate updated\")\n",
    "except Error as e:\n",
    "    print(e)"
   ]
  },
  {
   "cell_type": "markdown",
   "metadata": {},
   "source": [
    "### 19.List all students whose birthdate is yet to come in 2023."
   ]
  },
  {
   "cell_type": "code",
   "execution_count": null,
   "metadata": {},
   "outputs": [],
   "source": [
    "try:\n",
    "    sql=\"select * from tblStudent where MONTH(birthdate)>month(current_date()) or (MONTH(birthdate)>month(current_date()) and DAY(birthdate)>day(current_date()))\"\n",
    "    cursor.execute(sql)\n",
    "    print(\"Data from table\")\n",
    "    for i in cursor:\n",
    "        print(i)\n",
    "except Error as e:\n",
    "    print(e)"
   ]
  },
  {
   "cell_type": "markdown",
   "metadata": {},
   "source": [
    "### 20.Create a stored procedure for inserting row in table. Show usage of it."
   ]
  },
  {
   "cell_type": "code",
   "execution_count": null,
   "metadata": {},
   "outputs": [],
   "source": [
    "# Create a stored procedure for inserting row in table. \n",
    "try:\n",
    "    sql=\"\"\"\n",
    "    CREATE PROCEDURE insertStudents(\n",
    "        IN rollno1 int,\n",
    "        IN name1 varchar(20),\n",
    "        IN birthdate1 date,\n",
    "        IN  gender1 varchar(10),\n",
    "        IN cmarks1 int, \n",
    "        In cppmarks1 int,\n",
    "        IN pythonmarks1 int)\n",
    "    BEGIN\n",
    "        insert into tblStudent(rollno, name, birthdate, gender, cmarks, cppmarks, pythonmarks) values(rollno1, name1, birthdate1, gender1, cmarks1, cppmarks1, pythonmarks1); \n",
    "    END\n",
    "        \"\"\"\n",
    "    cursor.execute(sql)\n",
    "    con.commit()\n",
    "    print(\"Procedure created\")\n",
    "except Error as e:\n",
    "    print(e)"
   ]
  },
  {
   "cell_type": "code",
   "execution_count": null,
   "metadata": {},
   "outputs": [],
   "source": [
    "# Show usage of it.\n",
    "try:\n",
    "    cursor.callproc('insertStudents',(123, 'John', '2000-01-05','Male', 85, 90, 78))\n",
    "    con.commit()\n",
    "    print(\"Data inserted\")\n",
    "except Error as e:\n",
    "    print(e)"
   ]
  },
  {
   "cell_type": "markdown",
   "metadata": {},
   "source": [
    "### 21. Create a stored procedure for fetching only female student rows.  Show usage of it."
   ]
  },
  {
   "cell_type": "code",
   "execution_count": null,
   "metadata": {},
   "outputs": [],
   "source": [
    "try:\n",
    "    sql=\"\"\"\n",
    "    CREATE PROCEDURE showGirls()\n",
    "    BEGIN\n",
    "        select * from tblStudent where gender='Female';\n",
    "    END\n",
    "    \"\"\"\n",
    "    cursor.execute(sql)\n",
    "    con.commit()\n",
    "    print(\"Procedure created\")\n",
    "except Error as e:\n",
    "    print(e)"
   ]
  },
  {
   "cell_type": "code",
   "execution_count": null,
   "metadata": {},
   "outputs": [],
   "source": [
    "#Show usage of it.\n",
    "try:\n",
    "    cursor.callproc('showGirls')\n",
    "    print(\"Data from table\")\n",
    "    for i in cursor.stored_results():\n",
    "        print(i.fetchall())\n",
    "except Error as e:\n",
    "    print(e)"
   ]
  },
  {
   "cell_type": "markdown",
   "metadata": {},
   "source": [
    "### 22.Create a stored procedure for fetching student records having grade as a specific parameter given by user. Show usage of it."
   ]
  },
  {
   "cell_type": "code",
   "execution_count": null,
   "metadata": {},
   "outputs": [],
   "source": [
    "try:\n",
    "    sql=\"\"\"\n",
    "    CREATE PROCEDURE showGrades()\n",
    "    BEGIN\n",
    "        select * from tblStudent where NOT grade='NULL';\n",
    "    END\n",
    "    \"\"\"\n",
    "    cursor.execute(sql)\n",
    "    con.commit()\n",
    "    print(\"Procedure created\")\n",
    "except Error as e:\n",
    "    print(e)"
   ]
  },
  {
   "cell_type": "code",
   "execution_count": null,
   "metadata": {},
   "outputs": [],
   "source": [
    "try:\n",
    "    cursor.callproc('showGrades')\n",
    "    print(\"Data from table\")\n",
    "    for i in cursor.stored_results():\n",
    "        print(i.fetchall())\n",
    "except Error as e:\n",
    "    print(e)"
   ]
  }
 ],
 "metadata": {
  "kernelspec": {
   "display_name": "Python 3",
   "language": "python",
   "name": "python3"
  },
  "language_info": {
   "codemirror_mode": {
    "name": "ipython",
    "version": 3
   },
   "file_extension": ".py",
   "mimetype": "text/x-python",
   "name": "python",
   "nbconvert_exporter": "python",
   "pygments_lexer": "ipython3",
   "version": "3.11.3"
  },
  "orig_nbformat": 4
 },
 "nbformat": 4,
 "nbformat_minor": 2
}
