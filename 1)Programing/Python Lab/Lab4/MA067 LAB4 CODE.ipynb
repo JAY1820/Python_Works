{
 "cells": [
  {
   "cell_type": "markdown",
   "id": "db852db9",
   "metadata": {},
   "source": [
    "<h2>Pratical 4</h2>\n",
    "<h2>Roll no: MA067 </h2>"
   ]
  },
  {
   "cell_type": "markdown",
   "id": "64f5b3bd",
   "metadata": {},
   "source": [
    "<h2> Q-1Create a function calcFactorial. It should accept one integer parameter. If the parameter is integer, the function should return factorial of the parameter, else the function should return -9999. Show usage of the function.</h2>"
   ]
  },
  {
   "cell_type": "code",
   "execution_count": 2,
   "id": "ebf0fbd0",
   "metadata": {},
   "outputs": [
    {
     "name": "stdout",
     "output_type": "stream",
     "text": [
      "120\n"
     ]
    }
   ],
   "source": [
    "def calcFactorial(n):\n",
    "    if not isinstance(n, int):\n",
    "        return -9999\n",
    "    factorial = 1\n",
    "    for i in range(1, n + 1):\n",
    "        factorial *= i\n",
    "    return factorial\n",
    "\n",
    "# Usage:\n",
    "print(calcFactorial(5)) # 120\n"
   ]
  },
  {
   "cell_type": "markdown",
   "id": "b7f3a2d7",
   "metadata": {},
   "source": [
    "<h2>2)Create a function checkPrime. It should accept one integer parameter. If the parameter is not integer, the function should return -9999. The function should return True if the parameter is a prime number, else the function should return False. Show usage of the function.</h2>"
   ]
  },
  {
   "cell_type": "code",
   "execution_count": null,
   "id": "02c993fa",
   "metadata": {},
   "outputs": [],
   "source": [
    "def checkPrime(n):\n",
    "    if not isinstance(n, int):\n",
    "        return -9999\n",
    "    if n <= 1:\n",
    "        return False\n",
    "    for i in range(2, n):\n",
    "        if n % i == 0:\n",
    "            return False\n",
    "    return True\n",
    "\n",
    "# Usage:\n",
    "print(checkPrime(5))\n"
   ]
  },
  {
   "cell_type": "markdown",
   "id": "47ca244e",
   "metadata": {},
   "source": [
    "<h2>3) Create a function countVowelsFrequencies. The function should accept one string parameter and return frequency of each vowel present in the parameter."
   ]
  },
  {
   "cell_type": "code",
   "execution_count": 23,
   "id": "27851f04",
   "metadata": {},
   "outputs": [
    {
     "name": "stdout",
     "output_type": "stream",
     "text": [
      "{'e': 1, 'o': 2}\n"
     ]
    }
   ],
   "source": [
    "def countVowelsFrequencies(s):\n",
    "    vowels = 'aeiouAEIOU'\n",
    "    freq = {}\n",
    "    for char in s:\n",
    "        if char in vowels:\n",
    "            freq[char] = freq.get(char, 0) + 1\n",
    "    return freq\n",
    "\n",
    "# Usage:\n",
    "print(countVowelsFrequencies('hello world'))\n"
   ]
  },
  {
   "cell_type": "markdown",
   "id": "d7ad5bce",
   "metadata": {},
   "source": [
    "<h2>4)Create a function factorials which accepts a list of integers. The function should compute factorial for all list elements (use calcFactorial() from above sr# 1), and return all factorial values.</h2>"
   ]
  },
  {
   "cell_type": "code",
   "execution_count": 5,
   "id": "de5e3313",
   "metadata": {},
   "outputs": [
    {
     "name": "stdout",
     "output_type": "stream",
     "text": [
      "[6, 24, 120]\n"
     ]
    }
   ],
   "source": [
    "def factorials(nums):\n",
    "    result = []\n",
    "    for num in nums:\n",
    "        result.append(calcFactorial(num))\n",
    "    return result\n",
    "\n",
    "# Usage:\n",
    "print(factorials([3, 4, 5]))\n"
   ]
  },
  {
   "cell_type": "markdown",
   "id": "3055da14",
   "metadata": {},
   "source": [
    "<h2>5)Create a function calcSimpleInterest() to compute simple interest of three paramters: principal_amount, duration, rate_of_interest. Demonstrate usage of default arguments in function call.</h2>"
   ]
  },
  {
   "cell_type": "code",
   "execution_count": 9,
   "id": "359e79c4",
   "metadata": {},
   "outputs": [
    {
     "name": "stdout",
     "output_type": "stream",
     "text": [
      "100.0\n",
      "200.0\n"
     ]
    }
   ],
   "source": [
    "def calcSimpleInterest(principal_amount, duration, rate_of_interest=0.05):\n",
    "    interest = principal_amount * duration * rate_of_interest\n",
    "    return interest\n",
    "\n",
    "# Usage:\n",
    "print(calcSimpleInterest(1000, 2)) \n",
    "print(calcSimpleInterest(1000, 2, 0.1))\n"
   ]
  },
  {
   "cell_type": "markdown",
   "id": "df902f81",
   "metadata": {},
   "source": [
    "<h2>6)Create a function printMultiplicationTable(). The function should receive an integer parameter and print  multiplication table of the same.\n",
    "</h2>"
   ]
  },
  {
   "cell_type": "code",
   "execution_count": 1,
   "id": "2da64e00",
   "metadata": {},
   "outputs": [
    {
     "name": "stdout",
     "output_type": "stream",
     "text": [
      "5 x 1 = 5\n",
      "5 x 2 = 10\n",
      "5 x 3 = 15\n",
      "5 x 4 = 20\n",
      "5 x 5 = 25\n",
      "5 x 6 = 30\n",
      "5 x 7 = 35\n",
      "5 x 8 = 40\n",
      "5 x 9 = 45\n",
      "5 x 10 = 50\n"
     ]
    }
   ],
   "source": [
    "def printMultiplicationTable(n):\n",
    "    for i in range(1, 11):\n",
    "        print(f\"{n} x {i} = {n * i}\")\n",
    "\n",
    "# Usage:\n",
    "printMultiplicationTable(5)\n"
   ]
  },
  {
   "cell_type": "markdown",
   "id": "71ac0f30",
   "metadata": {},
   "source": [
    "<h2>7)Create a function toUpper() to convert a string parameter in upper case and return the same. Do not use inbuilt function.</h2>"
   ]
  },
  {
   "cell_type": "code",
   "execution_count": 13,
   "id": "6d185dc9",
   "metadata": {},
   "outputs": [
    {
     "name": "stdout",
     "output_type": "stream",
     "text": [
      "HELLO WORLD\n"
     ]
    }
   ],
   "source": [
    "def toUpper(s):\n",
    "    result = ''\n",
    "    for char in s:\n",
    "        if 'a' <= char <= 'z':\n",
    "            result += chr(ord(char) - ord('a') + ord('A'))\n",
    "        else:\n",
    "            result += char\n",
    "    return result\n",
    "\n",
    "# Usage:\n",
    "print(toUpper('hello world'))"
   ]
  },
  {
   "cell_type": "markdown",
   "id": "0a8d9156",
   "metadata": {},
   "source": [
    "<h2>8)Create a function removeWhiteSpaceFromString() to remove white space from a string parameter.</h2>"
   ]
  },
  {
   "cell_type": "code",
   "execution_count": 15,
   "id": "11743a35",
   "metadata": {},
   "outputs": [
    {
     "name": "stdout",
     "output_type": "stream",
     "text": [
      "helloworld\n"
     ]
    }
   ],
   "source": [
    "def removeWhiteSpaceFromString(s):\n",
    "    result = ''\n",
    "    for char in s:\n",
    "        if not char.isspace():\n",
    "            result += char\n",
    "    return result\n",
    "\n",
    "# Usage:\n",
    "print(removeWhiteSpaceFromString('hello world'))\n"
   ]
  },
  {
   "cell_type": "markdown",
   "id": "39030251",
   "metadata": {},
   "source": [
    "<h2>9)Create a function reverseString() to reverse a string parameter.  Do not use inbuilt function</h2>"
   ]
  },
  {
   "cell_type": "code",
   "execution_count": 17,
   "id": "f60e5804",
   "metadata": {},
   "outputs": [
    {
     "name": "stdout",
     "output_type": "stream",
     "text": [
      "dlrow olleh\n"
     ]
    }
   ],
   "source": [
    "def reverseString(s):\n",
    "    result = ''\n",
    "    for i in range(len(s) - 1, -1, -1):\n",
    "        result += s[i]\n",
    "    return result\n",
    "\n",
    "# Usage:\n",
    "print(reverseString('hello world'))\n"
   ]
  },
  {
   "cell_type": "markdown",
   "id": "cd046f9a",
   "metadata": {},
   "source": [
    "<h2>Create a function checkSquare(), which accepts lengths of four sides of a rectangle; and checks if rectangle is square or not.</h2>"
   ]
  },
  {
   "cell_type": "code",
   "execution_count": 19,
   "id": "730cbceb",
   "metadata": {},
   "outputs": [
    {
     "name": "stdout",
     "output_type": "stream",
     "text": [
      "True\n",
      "False\n"
     ]
    }
   ],
   "source": [
    "def checkSquare(a, b, c, d):\n",
    "    if a == b == c == d:\n",
    "        return True\n",
    "    else:\n",
    "        return False\n",
    "\n",
    "# Usage:\n",
    "print(checkSquare(5, 5, 5, 5))\n",
    "print(checkSquare(5, 5, 6, 6)) \n"
   ]
  },
  {
   "cell_type": "code",
   "execution_count": null,
   "id": "fe8f5d15",
   "metadata": {},
   "outputs": [],
   "source": []
  },
  {
   "cell_type": "code",
   "execution_count": null,
   "id": "22845e1d",
   "metadata": {},
   "outputs": [],
   "source": []
  }
 ],
 "metadata": {
  "kernelspec": {
   "display_name": "Python 3 (ipykernel)",
   "language": "python",
   "name": "python3"
  },
  "language_info": {
   "codemirror_mode": {
    "name": "ipython",
    "version": 3
   },
   "file_extension": ".py",
   "mimetype": "text/x-python",
   "name": "python",
   "nbconvert_exporter": "python",
   "pygments_lexer": "ipython3",
   "version": "3.11.1"
  }
 },
 "nbformat": 4,
 "nbformat_minor": 5
}
