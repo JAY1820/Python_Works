{
 "cells": [
  {
   "cell_type": "markdown",
   "metadata": {},
   "source": [
    "<h3>PRACTICAL -3 <h3>\n",
    "<h3>Roll no: MA067</h3>"
   ]
  },
  {
   "cell_type": "markdown",
   "metadata": {},
   "source": [
    "#### 1.Remove duplicate list items."
   ]
  },
  {
   "cell_type": "code",
   "execution_count": 1,
   "metadata": {},
   "outputs": [
    {
     "name": "stdout",
     "output_type": "stream",
     "text": [
      "Remove Duplicate Items from list 'lst'.\n",
      "Distict List: [1, 2, 3, 4]\n"
     ]
    }
   ],
   "source": [
    "lst=[2,3,4,3,2,1]\n",
    "Slst=set(lst)\n",
    "lst=list(Slst)\n",
    "print(\"Remove Duplicate Items from list 'lst'.\\nDistict List:\",lst)"
   ]
  },
  {
   "cell_type": "markdown",
   "metadata": {},
   "source": [
    "#### 2.Store reverse of each list member in another list at same position."
   ]
  },
  {
   "cell_type": "code",
   "execution_count": 2,
   "metadata": {},
   "outputs": [
    {
     "name": "stdout",
     "output_type": "stream",
     "text": [
      "Reverse List: [True, 5000.0, 23, 'Ram', 101]\n"
     ]
    }
   ],
   "source": [
    "sList=[101,\"Ram\",23,5000.00,True]\n",
    "lenth= len(sList)\n",
    "revLst=[]\n",
    "for i in range(lenth,0,-1):\n",
    "    revLst.append(sList[i-1])\n",
    "print(\"Reverse List:\",revLst)"
   ]
  },
  {
   "cell_type": "markdown",
   "metadata": {},
   "source": [
    "#### 3.Take a sentence as input from user. Break it into words, store words in a list. Sort list according to length of string members."
   ]
  },
  {
   "cell_type": "code",
   "execution_count": 3,
   "metadata": {},
   "outputs": [
    {
     "name": "stdout",
     "output_type": "stream",
     "text": [
      "Sorted list by length of String memeber: ['u', 'how', 'are', 'hello']\n"
     ]
    }
   ],
   "source": [
    "Sortlist=sorted(input(\"Enter a list of Strings: \").split(),key=len)\n",
    "print(\"Sorted list by length of String memeber:\",Sortlist)\n"
   ]
  },
  {
   "cell_type": "markdown",
   "metadata": {},
   "source": [
    "#### 4.Create a list which contains integers from -100 to 1 as list items."
   ]
  },
  {
   "cell_type": "code",
   "execution_count": 4,
   "metadata": {},
   "outputs": [
    {
     "name": "stdout",
     "output_type": "stream",
     "text": [
      "-100 to 1: [-100, -99, -98, -97, -96, -95, -94, -93, -92, -91, -90, -89, -88, -87, -86, -85, -84, -83, -82, -81, -80, -79, -78, -77, -76, -75, -74, -73, -72, -71, -70, -69, -68, -67, -66, -65, -64, -63, -62, -61, -60, -59, -58, -57, -56, -55, -54, -53, -52, -51, -50, -49, -48, -47, -46, -45, -44, -43, -42, -41, -40, -39, -38, -37, -36, -35, -34, -33, -32, -31, -30, -29, -28, -27, -26, -25, -24, -23, -22, -21, -20, -19, -18, -17, -16, -15, -14, -13, -12, -11, -10, -9, -8, -7, -6, -5, -4, -3, -2, -1, 0, 1]\n"
     ]
    }
   ],
   "source": [
    "lstHundres=[]\n",
    "for i in range(-100,2):\n",
    "    lstHundres.append(i)\n",
    "print(\"-100 to 1:\",lstHundres)"
   ]
  },
  {
   "cell_type": "markdown",
   "metadata": {},
   "source": [
    "#### 5.Create a list which contains all even integers between 1 and 10 as list items."
   ]
  },
  {
   "cell_type": "code",
   "execution_count": 5,
   "metadata": {},
   "outputs": [
    {
     "name": "stdout",
     "output_type": "stream",
     "text": [
      "[0, 2, 4, 6, 8, 10]\n"
     ]
    }
   ],
   "source": [
    "evenLst=[]\n",
    "for i in range(0,11,2):\n",
    "    evenLst.append(i)\n",
    "print(evenLst)"
   ]
  },
  {
   "cell_type": "markdown",
   "metadata": {},
   "source": [
    "#### 6.Create a list which contains all consonent-alphabets between 'A' and 'Z' as list items."
   ]
  },
  {
   "cell_type": "code",
   "execution_count": 6,
   "metadata": {},
   "outputs": [
    {
     "name": "stdout",
     "output_type": "stream",
     "text": [
      "All consonent-alphabets : ['B', 'C', 'D', 'F', 'G', 'H', 'J', 'K', 'L', 'M', 'N', 'P', 'Q', 'R', 'S', 'T', 'V', 'W', 'X', 'Y', 'Z']\n"
     ]
    }
   ],
   "source": [
    "Consonent=[]\n",
    "for i in range(ord(\"A\"),ord(\"Z\")+1):\n",
    "    if chr(i) not in \"AEIOU\":\n",
    "        Consonent.append(chr(i))\n",
    "print(\"All consonent-alphabets :\",Consonent)"
   ]
  },
  {
   "cell_type": "markdown",
   "metadata": {},
   "source": [
    "### EXERCISES-3-b\n",
    "Create Python programs for the following:\n"
   ]
  },
  {
   "cell_type": "markdown",
   "metadata": {},
   "source": [
    "#### 1.Store 5 different birthdates into a tuple. Print birthdates in the order of from elder to younger (i.e.Sort the tuple in descending order of dates)."
   ]
  },
  {
   "cell_type": "code",
   "execution_count": 7,
   "metadata": {},
   "outputs": [
    {
     "name": "stdout",
     "output_type": "stream",
     "text": [
      "Dates of birth in decending order: [datetime.date(1890, 1, 2), datetime.date(1980, 1, 5), datetime.date(1990, 1, 1), datetime.date(1998, 1, 24), datetime.date(2990, 12, 3)]\n"
     ]
    }
   ],
   "source": [
    "import datetime as dt\n",
    "dobs=dt.date(1990, 1, 1),dt.date(1890, 1, 2),dt.date(2990, 12, 3),dt.date(1998, 1, 24),dt.date(1980, 1, 5)\n",
    "print(\"Dates of birth in decending order:\",sorted(dobs))"
   ]
  },
  {
   "cell_type": "markdown",
   "metadata": {},
   "source": [
    "#### 2.Create two tuples with some elements. Store only common elements from both the tuples into a third tuple."
   ]
  },
  {
   "cell_type": "code",
   "execution_count": 8,
   "metadata": {},
   "outputs": [
    {
     "name": "stdout",
     "output_type": "stream",
     "text": [
      "Common elements in both sets are: (3, 4, 5)\n"
     ]
    }
   ],
   "source": [
    "tp=(1,2,3,4,5)\n",
    "tp1=(3,4,5,6,7)\n",
    "stp=set(tp)\n",
    "stp1=set(tp1)\n",
    "anstpl=tuple(stp.intersection(stp1))\n",
    "print(\"Common elements in both sets are:\",anstpl)"
   ]
  },
  {
   "cell_type": "markdown",
   "metadata": {},
   "source": [
    "#### 3.Reverse a string without help of inbuilt function (OR Reverse a string using only one command/statement). Store answer in another string."
   ]
  },
  {
   "cell_type": "code",
   "execution_count": 9,
   "metadata": {},
   "outputs": [
    {
     "name": "stdout",
     "output_type": "stream",
     "text": [
      "Reverse String:  gnirts a si ereH ,olleH\n"
     ]
    }
   ],
   "source": [
    "Nstr=\"Hello, Here is a string\"\n",
    "revstr=Nstr[::-1]\n",
    "print(\"Reverse String: \",revstr)"
   ]
  },
  {
   "cell_type": "markdown",
   "metadata": {},
   "source": [
    "### EXERCISES-3-c\n"
   ]
  },
  {
   "cell_type": "markdown",
   "metadata": {},
   "source": [
    "#### 1.Explain usage of items() method of dictionary."
   ]
  },
  {
   "cell_type": "code",
   "execution_count": 13,
   "metadata": {},
   "outputs": [
    {
     "name": "stdout",
     "output_type": "stream",
     "text": [
      "dict.items() :  dict_items([('Name', 'Zara'), ('Age', 7), ('Class', 'First')])\n"
     ]
    }
   ],
   "source": [
    "# Explain usage of items() method of dictionary.\n",
    "'''This method is helpful when you want to manipulate or transform the key-value pairs of a dictionary, \n",
    "like filtering or modifying elements, since it gives you direct access to both keys and values in a structured manner.'''\n",
    "# Example:\n",
    "# Create a dictionary\n",
    "dict = {'Name': 'Zara', 'Age': 7, 'Class': 'First'}\n",
    "# Access items() method to print keys and values\n",
    "print(\"dict.items() : \", dict.items())"
   ]
  },
  {
   "cell_type": "markdown",
   "metadata": {},
   "source": [
    "#### 2.Explain usage of get() & pop() methods of dictionary."
   ]
  },
  {
   "cell_type": "code",
   "execution_count": 14,
   "metadata": {},
   "outputs": [
    {
     "name": "stdout",
     "output_type": "stream",
     "text": [
      "Get Method:\n",
      "Value : Zara\n",
      "Value : 7\n",
      "Pop Method:\n",
      "Value : Zara\n",
      "Dictionary : {'Age': 7}\n"
     ]
    }
   ],
   "source": [
    "# get() Method:\n",
    "# Used to retrieve the value associated with a key from a dictionary.\n",
    "# It takes two arguments: the key you want to retrieve the value for, and an optional default value that is returned if the key is not found in the dictionary.\n",
    "# Syntax: dict.get(key, default=None)\n",
    "# Example:\n",
    "dict = {'Name': 'Zara', 'Age': 7}\n",
    "print(\"Get Method:\")\n",
    "print(\"Value :\" , dict.get('Name'))\n",
    "print(\"Value :\" , dict.get('Age'))\n",
    "\n",
    "# pop() Method:\n",
    "# Used to remove an item from the dictionary.\n",
    "# It takes two arguments: the key to be removed, and an optional default value to be returned if the key is not found in the dictionary.\n",
    "# Syntax: dict.pop(key, default=None)\n",
    "# Example:\n",
    "print(\"Pop Method:\")\n",
    "print(\"Value :\" , dict.pop('Name'))\n",
    "print(\"Dictionary :\" , dict)\n",
    "#removed item \"name:zara\"\n"
   ]
  },
  {
   "cell_type": "markdown",
   "metadata": {},
   "source": [
    "#### 3.Explain usage of popitem() & update() methods of dictionary."
   ]
  },
  {
   "cell_type": "code",
   "execution_count": 15,
   "metadata": {},
   "outputs": [
    {
     "name": "stdout",
     "output_type": "stream",
     "text": [
      "Initial Dictionary:  {1: 'Python', 2: 'For', 3: 'Data Science'}\n",
      "Dictionary after popitem():  (3, 'Data Science')\n",
      "Initial Dictionary:  {1: 'Python', 2: 'For', 3: 'Data Science'}\n",
      "Dictionary after update:  {1: 'Python', 2: 'For', 3: 'Machine Learning'}\n"
     ]
    }
   ],
   "source": [
    "#popitem()method:\n",
    "# Used to remove and return an last or arbitrary key-value pair from the dictionary.\n",
    "#It returns the key-value pair as a tuple.\n",
    "#Syntax: key, value = dictionary.popitem()\n",
    "#example:\n",
    "Dict = {1: 'Python', 2: 'For', 3: 'Data Science'}\n",
    "print(\"Initial Dictionary: \", Dict)\n",
    "print(\"Dictionary after popitem(): \", Dict.popitem())\n",
    "\n",
    "#update() method:\n",
    "# Used to update the dictionary with the elements from the another dictionary object or from an iterable of key/value pairs.\n",
    "#Syntax: dictionary.update(iterable)\n",
    "#example:\n",
    "Dict = {1: 'Python', 2: 'For', 3: 'Data Science'}\n",
    "print(\"Initial Dictionary: \", Dict)\n",
    "Dict.update({3: 'Machine Learning'})\n",
    "print(\"Dictionary after update: \", Dict)"
   ]
  },
  {
   "cell_type": "markdown",
   "metadata": {},
   "source": [
    "#### 4. Count frequency of each vowel in a sentence."
   ]
  },
  {
   "cell_type": "code",
   "execution_count": 16,
   "metadata": {},
   "outputs": [
    {
     "name": "stdout",
     "output_type": "stream",
     "text": [
      "The string is: hello kem cho\n",
      "Frequency of Each Vowels {'a': 0, 'e': 2, 'i': 0, 'o': 2, 'u': 0}\n"
     ]
    }
   ],
   "source": [
    "sant=input(\"Enter the string:\")\n",
    "print(\"The string is:\",sant)\n",
    "vowels={\"a\":0,\"e\":0,\"i\":0,\"o\":0,\"u\":0}\n",
    "for i in sant.lower():\n",
    "    if i in vowels:\n",
    "\n",
    "        vowels[i]+=1\n",
    "print(\"Frequency of Each Vowels\",vowels)"
   ]
  },
  {
   "cell_type": "code",
   "execution_count": null,
   "metadata": {},
   "outputs": [],
   "source": []
  },
  {
   "cell_type": "code",
   "execution_count": null,
   "metadata": {},
   "outputs": [],
   "source": []
  }
 ],
 "metadata": {
  "kernelspec": {
   "display_name": "env1",
   "language": "python",
   "name": "python3"
  },
  "language_info": {
   "codemirror_mode": {
    "name": "ipython",
    "version": 3
   },
   "file_extension": ".py",
   "mimetype": "text/x-python",
   "name": "python",
   "nbconvert_exporter": "python",
   "pygments_lexer": "ipython3",
   "version": "3.11.1"
  },
  "orig_nbformat": 4
 },
 "nbformat": 4,
 "nbformat_minor": 2
}
