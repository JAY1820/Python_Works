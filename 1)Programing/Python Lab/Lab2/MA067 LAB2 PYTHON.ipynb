{
 "cells": [
  {
   "cell_type": "markdown",
   "id": "96d92a06",
   "metadata": {},
   "source": [
    "# Exercise 2-a #"
   ]
  },
  {
   "cell_type": "markdown",
   "id": "084a63b5",
   "metadata": {},
   "source": [
    "<h3>Q1 Input two float operands from user. Apply arithmetic operators on them.</h3>"
   ]
  },
  {
   "cell_type": "code",
   "execution_count": 1,
   "id": "dd0167f1",
   "metadata": {},
   "outputs": [
    {
     "name": "stdout",
     "output_type": "stream",
     "text": [
      "Enter 1st Number :10.5\n",
      "Enter 2nd Number :11.5\n"
     ]
    }
   ],
   "source": [
    "no1 = float(input(\"Enter 1st Number :\"))\n",
    "no2 = float(input(\"Enter 2nd Number :\"))"
   ]
  },
  {
   "cell_type": "code",
   "execution_count": 2,
   "id": "e6d589ff",
   "metadata": {},
   "outputs": [],
   "source": [
    "add = no1+no2\n",
    "sub = no1-no2\n",
    "mult = no1*no2\n",
    "div = no1/no2\n",
    "mod = no1%no2\n",
    "power = no1**no2"
   ]
  },
  {
   "cell_type": "code",
   "execution_count": 3,
   "id": "2feb353d",
   "metadata": {},
   "outputs": [
    {
     "name": "stdout",
     "output_type": "stream",
     "text": [
      "Addition : 22.0\n",
      "Subtraction : -1.0\n",
      "Multiplication : 120.75\n",
      "Division : 0.9130434782608695\n",
      "Modulus : 10.5\n",
      "Power : 554213294311.6584\n"
     ]
    }
   ],
   "source": [
    "print(\"Addition :\",add)\n",
    "print(\"Subtraction :\",sub)\n",
    "print(\"Multiplication :\",mult)\n",
    "print(\"Division :\",div)\n",
    "print(\"Modulus :\",mod)\n",
    "print(\"Power :\",power)"
   ]
  },
  {
   "cell_type": "markdown",
   "id": "ba88dee1",
   "metadata": {},
   "source": [
    "<h3>Q2 \n",
    "Input two string operands from user. Check behaviour of relational and logical operators on them. Write your observations.</h3>"
   ]
  },
  {
   "cell_type": "code",
   "execution_count": 4,
   "id": "4688cb0d",
   "metadata": {},
   "outputs": [
    {
     "name": "stdout",
     "output_type": "stream",
     "text": [
      "Enter 1st Operator :10\n",
      "enter 2nd Operator :5\n"
     ]
    }
   ],
   "source": [
    "op1=input(\"Enter 1st Operator :\")\n",
    "op2=input(\"enter 2nd Operator :\")"
   ]
  },
  {
   "cell_type": "code",
   "execution_count": 5,
   "id": "31935be9",
   "metadata": {},
   "outputs": [
    {
     "name": "stdout",
     "output_type": "stream",
     "text": [
      "1st String : 10\n",
      "2nd String : 5\n",
      "Are Both String Same : False\n",
      "Are Both String Different : True\n",
      "Is 1st String Greater Then 2nd String : False\n",
      "Is 1st String Greater Then And Equal To 2nd String : False\n",
      "Is 1st String Less Then 2nd String : True\n",
      "Is 1st String Less Then And Equal To 2nd String : True\n"
     ]
    }
   ],
   "source": [
    "#Relational Operator\n",
    "print(\"1st String :\",op1)\n",
    "print(\"2nd String :\",op2)\n",
    "print(\"Are Both String Same :\",op1 == op2)\n",
    "print(\"Are Both String Different :\",op1 != op2)\n",
    "print(\"Is 1st String Greater Then 2nd String :\",op1 > op2)\n",
    "print(\"Is 1st String Greater Then And Equal To 2nd String :\",op1 >= op2)\n",
    "print(\"Is 1st String Less Then 2nd String :\",op1 < op2)\n",
    "print(\"Is 1st String Less Then And Equal To 2nd String :\",op1 <= op2)"
   ]
  },
  {
   "cell_type": "markdown",
   "id": "73dc88d3",
   "metadata": {},
   "source": [
    "<h4>So by this problem we can see that we can also do comparisons between strings. These are relational operators and will give output as true and false. So if we use '==' operator then it will check the length and then compare both the entered strings if identical then you will get true as output else will get false. If both the strings are unidentical and we use '!=' then we get true. If we use '>=' and '<=' and if the strings are same then it gives true otherwise if both strings are different then will calculate the length and give true/false depending their length. And for '>' and  '<' it will check lenghts only and give output. The larger the length the bigger the string. One thing to remember is String comparision is case sensetive.</h4>"
   ]
  },
  {
   "cell_type": "code",
   "execution_count": 6,
   "id": "2c34dd31",
   "metadata": {},
   "outputs": [
    {
     "name": "stdout",
     "output_type": "stream",
     "text": [
      "1st String : 10\n",
      "2nd String : 5\n",
      "1st String AND 2nd String : 5\n",
      "1st String OR 2nd String : 10\n",
      "NOT 1st String : False\n",
      "Not String : True\n"
     ]
    }
   ],
   "source": [
    "#Logical Operator\n",
    "print(\"1st String :\",op1)\n",
    "print(\"2nd String :\",op2)\n",
    "print(\"1st String AND 2nd String :\",op1 and op2)\n",
    "print(\"1st String OR 2nd String :\",op1 or op2)\n",
    "print(\"NOT 1st String :\",not \"op1\")\n",
    "print(\"Not String :\",not \"\")"
   ]
  },
  {
   "cell_type": "markdown",
   "id": "a991c854",
   "metadata": {},
   "source": [
    "<h4><b>The logical AND operator returns True if both operands are True. When used with strings, it checks if both strings are non-empty (not equal to an empty string \"\").The logical OR operator returns True if at least one of the operands is True. When used with strings, it checks if either string is non-empty.The logical NOT operator negates the truth value of its operand. When used with strings, it checks if the string is empty (equal to \"\").</b></h4>"
   ]
  },
  {
   "cell_type": "markdown",
   "id": "f96762fd",
   "metadata": {},
   "source": [
    "<h3>Q3 Input two int operands from user. Explain behviour of bitwise operators on them.</h3>"
   ]
  },
  {
   "cell_type": "code",
   "execution_count": 1,
   "id": "2e42a84f",
   "metadata": {},
   "outputs": [
    {
     "name": "stdout",
     "output_type": "stream",
     "text": [
      "Enter 1st Number :10\n",
      "Enter 2nd Number :20\n"
     ]
    }
   ],
   "source": [
    "no1 = int(input(\"Enter 1st Number :\"))\n",
    "no2 = int(input(\"Enter 2nd Number :\"))"
   ]
  },
  {
   "cell_type": "code",
   "execution_count": null,
   "id": "18f711b0",
   "metadata": {},
   "outputs": [],
   "source": [
    "#Bitwise Operators\n",
    "print(\"1st Number :\",no1)\n",
    "print(\"2nd Number :\",no2)\n",
    "print(\"Bitwise AND :\",no1 & no2)\n",
    "print(\"Bitwise or :\",no1 | no2)\n",
    "print(\"Bitwise XOR :\",no1 ^ no2)\n",
    "print(\"Bitwise NOT: \", ~no1)\n",
    "print(\"Left Shift :\",no1 << 2)\n",
    "print(\"Right Shift :\",no2 >> 3)"
   ]
  },
  {
   "cell_type": "markdown",
   "id": "7ac52bcd",
   "metadata": {},
   "source": [
    "<h4><b>\n",
    "Bitwise AND '&' :For each pair of corresponding bits in the operands, the bitwise AND operation returns 1 if both bits are 1; otherwise, it returns 0.\n",
    "<br>\n",
    "Bitwise OR '|' :For each pair of corresponding bits in the operands, the bitwise OR operation returns 1 if either of the bits is 1; otherwise, it returns 0.\n",
    "<br>\n",
    "Bitwise XOR '^' :For each pair of corresponding bits in the operands, the bitwise XOR operation returns 1 if the bits are different; otherwise, it returns 0.    \n",
    "<br>\n",
    "Bitwise NOT '~' :The bitwise NOT operation flips the bits of the operand. It changes 1s to 0s and vice versa.\n",
    "<br>\n",
    "Bitwise Left shift '<<' :The bitwise left shift operation shifts the bits of the left operand to the left by a specified number of positions.\n",
    "<br>\n",
    "Bitwise Right Shift '>>' :The bitwise right shift operation shifts the bits of the left operand to the right by a specified number of positions.\n",
    "</b></h4>"
   ]
  },
  {
   "cell_type": "markdown",
   "id": "89ef96b1",
   "metadata": {},
   "source": [
    "# Exercise 2-b #"
   ]
  },
  {
   "cell_type": "markdown",
   "id": "4b976745",
   "metadata": {},
   "source": [
    "<h3>Q1 Determine whether an integer entered by a user is odd or even.</h3>"
   ]
  },
  {
   "cell_type": "code",
   "execution_count": 8,
   "id": "ddab08a8",
   "metadata": {},
   "outputs": [
    {
     "name": "stdout",
     "output_type": "stream",
     "text": [
      "enter a  number20\n"
     ]
    }
   ],
   "source": [
    "no = int(input(\"enter a  number\"))"
   ]
  },
  {
   "cell_type": "code",
   "execution_count": 9,
   "id": "77d66317",
   "metadata": {},
   "outputs": [
    {
     "name": "stdout",
     "output_type": "stream",
     "text": [
      "20 : Even\n"
     ]
    }
   ],
   "source": [
    "if no%2==0:\n",
    "    print(no,': Even')\n",
    "else:\n",
    "    print(no,': Odd')"
   ]
  },
  {
   "cell_type": "markdown",
   "id": "85732c4d",
   "metadata": {},
   "source": [
    "<h3>Q2 Input student details: rollno, name and marks of 3 subjects from user. Calculate total marks, percentage and grade. Print mark-sheet. Determine pass or fail.</h3>"
   ]
  },
  {
   "cell_type": "code",
   "execution_count": 10,
   "id": "e746f9f5",
   "metadata": {},
   "outputs": [
    {
     "name": "stdout",
     "output_type": "stream",
     "text": [
      "Enter roll number: 67\n",
      "Enter name: jay\n",
      "enter a marks for subject 1: 60\n",
      "enter a marks for subject 2: 70\n",
      "enter a marks for subject 3: 80\n",
      "---------- Mark Sheet ----------\n",
      "Roll No: 67\n",
      "Name: jay\n",
      "Subject 1: 60.0\n",
      "Subject 2: 70.0\n",
      "Subject 3: 80.0\n",
      "Total Marks: 210.0\n",
      "Percentage: 70.0\n",
      "Grade: C\n",
      "Status: Pass\n"
     ]
    }
   ],
   "source": [
    "\n",
    "roll_no= input(\"Enter roll number: \")\n",
    "name=input(\"Enter name: \")\n",
    "subject1=float(input(\"enter a marks for subject 1: \"))\n",
    "subject2=float(input(\"enter a marks for subject 2: \"))\n",
    "subject3=float(input(\"enter a marks for subject 3: \"))\n",
    "\n",
    "\n",
    "# Calculate total marks\n",
    "total_marks = subject1 + subject2 + subject3\n",
    "\n",
    "# Calculate percentage\n",
    "percentage = total_marks / 3\n",
    "\n",
    "# Determine grade\n",
    "if percentage >= 90:\n",
    "    grade = 'A'\n",
    "elif percentage >= 80:\n",
    "    grade = 'B'\n",
    "elif percentage >= 70:\n",
    "    grade = 'C'\n",
    "elif percentage >= 60:\n",
    "    grade = 'D'\n",
    "else:\n",
    "    grade = 'F'\n",
    "\n",
    "# Determine pass or fail\n",
    "if grade != 'F':\n",
    "    status = 'Pass'\n",
    "else:\n",
    "    status = 'Fail'\n",
    "\n",
    "# Print mark sheet\n",
    "print(\"---------- Mark Sheet ----------\")\n",
    "print(\"Roll No:\", roll_no)\n",
    "print(\"Name:\", name)\n",
    "print(\"Subject 1:\", subject1)\n",
    "print(\"Subject 2:\", subject2)\n",
    "print(\"Subject 3:\", subject3)\n",
    "print(\"Total Marks:\", total_marks)\n",
    "print(\"Percentage:\", percentage)\n",
    "print(\"Grade:\", grade)\n",
    "print(\"Status:\", status)\n"
   ]
  },
  {
   "cell_type": "markdown",
   "id": "5c0449a6",
   "metadata": {},
   "source": [
    "<h3>Q3 Input employee details: empno, name, gender, basic salary from user. Calculate DA (Of basic salary to 80% male, 70% to female ), HRA (Of basic salary 15% to female, 10% to male) and net salary. Also calculate gross (yearly) salary which also includes bonus (Of one basic salary 50% to male, 55% to female).</h3>"
   ]
  },
  {
   "cell_type": "code",
   "execution_count": 11,
   "id": "9c18b839",
   "metadata": {},
   "outputs": [
    {
     "name": "stdout",
     "output_type": "stream",
     "text": [
      "Enter employee number: 101\n",
      "Enter employee name: Raj\n",
      "Enter employee gender (M/F): M\n",
      "Enter employee basic salary: 20000\n",
      "\n",
      "Employee Details\n",
      "Employee Number: 101\n",
      "Employee Name: Raj\n",
      "Gender: M\n",
      "\n",
      "Allowances\n",
      "DA: 16000.0\n",
      "HRA: 3000.0\n",
      "\n",
      "Net Salary: 39000.0\n",
      "Gross Salary (with bonus): 40000.0\n"
     ]
    }
   ],
   "source": [
    "# Taking input from the user\n",
    "empno = input(\"Enter employee number: \")\n",
    "name = input(\"Enter employee name: \")\n",
    "gender = input(\"Enter employee gender (M/F): \")\n",
    "basic_salary = float(input(\"Enter employee basic salary: \"))\n",
    "\n",
    "# Calculating DA\n",
    "if gender == \"M\":\n",
    "    da = 0.8 * basic_salary\n",
    "else:\n",
    "    da = 0.7 * basic_salary\n",
    "\n",
    "#calculating HRA\n",
    "if gender == \"M\":\n",
    "    hra=0.15*basic_salary\n",
    "else:\n",
    "    hra=0.12*basic_salary \n",
    "\n",
    "# Calculating net salary\n",
    "net_salary=basic_salary+da+hra\n",
    "\n",
    "# Calculating bonus\n",
    "if gender == \"M\":\n",
    "    bonus = 0.05 * basic_salary\n",
    "else:\n",
    "    bonus = 0.07 * basic_salary\n",
    "\n",
    "gross_salary = net_salary + bonus\n",
    "\n",
    "# Displaying the results\n",
    "print(\"\\nEmployee Details\")\n",
    "print(\"Employee Number:\", empno)\n",
    "print(\"Employee Name:\", name)\n",
    "print(\"Gender:\", gender)\n",
    "\n",
    "print(\"\\nAllowances\")\n",
    "print(\"DA:\", da)\n",
    "print(\"HRA:\", hra)\n",
    "\n",
    "print(\"\\nNet Salary:\", net_salary)\n",
    "print(\"Gross Salary (with bonus):\", gross_salary)"
   ]
  },
  {
   "cell_type": "markdown",
   "id": "0171e1f0",
   "metadata": {},
   "source": [
    "<h3>Q4 \n",
    "Check whether your birthdate has already gone or it is about to come in the current year.</h3>"
   ]
  },
  {
   "cell_type": "code",
   "execution_count": 12,
   "id": "90962699",
   "metadata": {},
   "outputs": [
    {
     "name": "stdout",
     "output_type": "stream",
     "text": [
      "Your birthdate is yet to come this year.\n"
     ]
    }
   ],
   "source": [
    "import datetime\n",
    "\n",
    "dob = datetime.date(2001, 10, 25)\n",
    "current_date = datetime.date.today()\n",
    "\n",
    "if (dob.month, dob.day) < (current_date.month, current_date.day):\n",
    "    print(\"Your birthdate has already passed this year.\")\n",
    "elif (dob.month, dob.day) > (current_date.month, current_date.day):\n",
    "    print(\"Your birthdate is yet to come this year.\")\n",
    "else:\n",
    "    print(\"Today is your birthdate!\")\n"
   ]
  },
  {
   "cell_type": "markdown",
   "id": "56046cd3",
   "metadata": {},
   "source": [
    "<h3>Q5 Determine whether current year is leap year or not</h3>"
   ]
  },
  {
   "cell_type": "code",
   "execution_count": 13,
   "id": "4d76884f",
   "metadata": {},
   "outputs": [
    {
     "name": "stdout",
     "output_type": "stream",
     "text": [
      "Enter Year :2000\n",
      "2000 Leap Year\n"
     ]
    }
   ],
   "source": [
    "year = int(input(\"Enter Year :\"))\n",
    "if (year % 4 == 0 and year % 100 != 0) or (year % 400 == 0):\n",
    "    print(year,\"Leap Year\")\n",
    "else:\n",
    "    print(year,\"Not Leap Year\")"
   ]
  },
  {
   "cell_type": "markdown",
   "id": "2a7755dd",
   "metadata": {},
   "source": [
    "# Exercise 2-c #"
   ]
  },
  {
   "cell_type": "markdown",
   "id": "229780a8",
   "metadata": {},
   "source": [
    "<h3>Q1 Print multiplication table of a number entered by user.</h3>"
   ]
  },
  {
   "cell_type": "code",
   "execution_count": 14,
   "id": "c099e059",
   "metadata": {},
   "outputs": [
    {
     "name": "stdout",
     "output_type": "stream",
     "text": [
      "Enter Number :18\n",
      "18 * 1 = 18\n",
      "18 * 2 = 36\n",
      "18 * 3 = 54\n",
      "18 * 4 = 72\n",
      "18 * 5 = 90\n",
      "18 * 6 = 108\n",
      "18 * 7 = 126\n",
      "18 * 8 = 144\n",
      "18 * 9 = 162\n",
      "18 * 10 = 180\n"
     ]
    }
   ],
   "source": [
    "no = int(input(\"Enter Number :\"))\n",
    "for i in range (1,11):\n",
    "    print(no,'*',i,'=',no*i)"
   ]
  },
  {
   "cell_type": "markdown",
   "id": "877be081",
   "metadata": {},
   "source": [
    "<h3>Q2 \n",
    "Compute factorial of a number given by user.</h3>"
   ]
  },
  {
   "cell_type": "code",
   "execution_count": 15,
   "id": "967b6013",
   "metadata": {},
   "outputs": [
    {
     "name": "stdout",
     "output_type": "stream",
     "text": [
      "Enter a number: 5\n",
      "Factorial: 120\n"
     ]
    }
   ],
   "source": [
    "def factorial(n):\n",
    "    if n==0:\n",
    "        return 1 \n",
    "    elif n>0:\n",
    "        return n*factorial(n-1)\n",
    "    else:\n",
    "        return \"invalid\"\n",
    "\n",
    "no = int(input(\"Enter a number: \"))\n",
    "result = factorial(no)\n",
    "print(\"Factorial:\", result)\n"
   ]
  },
  {
   "cell_type": "markdown",
   "id": "2cc1feaa",
   "metadata": {},
   "source": [
    "<h3>Q3 \n",
    "Determine whether a number entered by user is prime or not.</h3>"
   ]
  },
  {
   "cell_type": "code",
   "execution_count": 16,
   "id": "ea25023d",
   "metadata": {},
   "outputs": [
    {
     "name": "stdout",
     "output_type": "stream",
     "text": [
      "Enter a number: 20\n",
      "Not prime\n"
     ]
    }
   ],
   "source": [
    "no = int(input(\"Enter a number: \"))\n",
    "\n",
    "for i in range(2, no):\n",
    "    if no % i == 0:\n",
    "        print(\"Not prime\")\n",
    "        break\n",
    "else:\n",
    "    print(\"Prime\")\n"
   ]
  },
  {
   "cell_type": "markdown",
   "id": "4ab65641",
   "metadata": {},
   "source": [
    "<h3>Q4 \n",
    "Determine whether a number entered by user is palindrome or not..</h3>"
   ]
  },
  {
   "cell_type": "code",
   "execution_count": 17,
   "id": "3ffa5896",
   "metadata": {},
   "outputs": [
    {
     "name": "stdout",
     "output_type": "stream",
     "text": [
      "Enter a string: jay\n",
      "Not a palindrome\n"
     ]
    }
   ],
   "source": [
    "user_input = input(\"Enter a string: \")\n",
    "is_palindrome = user_input == user_input[::-1]\n",
    "print(\"Palindrome\" if is_palindrome else \"Not a palindrome\")\n"
   ]
  },
  {
   "cell_type": "markdown",
   "id": "b5db16e9",
   "metadata": {},
   "source": [
    "<h1>Exercise 2-d <h1>\n",
    "    <h2> Find length of a string given by user. Do not use inbuilt function. <h2>"
   ]
  },
  {
   "cell_type": "code",
   "execution_count": 18,
   "id": "8a4289cb",
   "metadata": {},
   "outputs": [
    {
     "name": "stdout",
     "output_type": "stream",
     "text": [
      "Enter a string: jaymin\n",
      "Length of the string: 6\n"
     ]
    }
   ],
   "source": [
    "input = input(\"Enter a string: \")\n",
    "length = 0\n",
    "\n",
    "for char in input:\n",
    "    length += 1\n",
    "\n",
    "print(\"Length of the string:\", length)\n"
   ]
  },
  {
   "cell_type": "markdown",
   "id": "56466b2f",
   "metadata": {},
   "source": [
    "<h2>Determine whether a number entered by user is prime or not. Do not use inbuilt functions. </h2>"
   ]
  },
  {
   "cell_type": "code",
   "execution_count": 2,
   "id": "f3daaa9b",
   "metadata": {},
   "outputs": [
    {
     "name": "stdout",
     "output_type": "stream",
     "text": [
      "Enter a number: 20\n",
      "Not prime\n"
     ]
    }
   ],
   "source": [
    "num = int(input(\"Enter a number: \"))\n",
    "\n",
    "for i in range(2, num):\n",
    "    if num % i == 0:\n",
    "        print(\"Not prime\")\n",
    "        break\n",
    "else:\n",
    "    print(\"Prime\")\n"
   ]
  },
  {
   "cell_type": "markdown",
   "id": "b47af5b8",
   "metadata": {},
   "source": [
    "<h2>Determine whether a number entered by user is palindrome or not. Do not use inbuilt functions. </h2>"
   ]
  },
  {
   "cell_type": "code",
   "execution_count": 3,
   "id": "16692d14",
   "metadata": {},
   "outputs": [
    {
     "name": "stdout",
     "output_type": "stream",
     "text": [
      "Enter a string: jay\n",
      "Not a palindrome\n"
     ]
    }
   ],
   "source": [
    "user_input = input(\"Enter a string: \")\n",
    "is_palindrome = user_input == user_input[::-1]\n",
    "print(\"Palindrome\" if is_palindrome else \"Not a palindrome\")"
   ]
  },
  {
   "cell_type": "markdown",
   "id": "a9908432",
   "metadata": {},
   "source": [
    "<h2> \n",
    " 1) Print pattern:<br>\n",
    "* <br>\n",
    "* * <br>\n",
    "* * * <br>\n",
    "* * * * <br>\n",
    "</h2>"
   ]
  },
  {
   "cell_type": "code",
   "execution_count": 6,
   "id": "20228cf5",
   "metadata": {},
   "outputs": [
    {
     "name": "stdout",
     "output_type": "stream",
     "text": [
      "* \n",
      "* * \n",
      "* * * \n",
      "* * * * \n"
     ]
    }
   ],
   "source": [
    "for i in range(1, 5):\n",
    "    print('* ' * i)\n"
   ]
  },
  {
   "cell_type": "markdown",
   "id": "70a47027",
   "metadata": {},
   "source": [
    "<h2> \n",
    " 2) Print pattern:<br>\n",
    "1 <br>\n",
    "1 2 <br>\n",
    "1 2 3 <br>\n",
    "</h2>"
   ]
  },
  {
   "cell_type": "code",
   "execution_count": 18,
   "id": "ec3f5153",
   "metadata": {},
   "outputs": [
    {
     "name": "stdout",
     "output_type": "stream",
     "text": [
      "1 \n",
      "1 2 \n",
      "1 2 3 \n"
     ]
    }
   ],
   "source": [
    "for i in range(1, 4):\n",
    "    for j in range(1, i+1):\n",
    "        print(j, end=' ')\n",
    "    print()\n"
   ]
  },
  {
   "cell_type": "markdown",
   "id": "fd83790c",
   "metadata": {},
   "source": [
    "<h2> \n",
    " 3) Print pattern:<br>\n",
    "A <br>\n",
    "A B <br>\n",
    "A B C <br>\n",
    "</h2>"
   ]
  },
  {
   "cell_type": "code",
   "execution_count": 28,
   "id": "17d6d227",
   "metadata": {},
   "outputs": [
    {
     "name": "stdout",
     "output_type": "stream",
     "text": [
      "Enter a number: 4\n",
      "A \n",
      "A B \n",
      "A B C \n"
     ]
    }
   ],
   "source": [
    "n = int(input(\"Enter a number: \"))\n",
    "for i in range(1, n):\n",
    "    for j in range(1, i+1):\n",
    "        print(chr(64 + j), end=' ')\n",
    "    print()\n"
   ]
  },
  {
   "cell_type": "code",
   "execution_count": null,
   "id": "58160f7c",
   "metadata": {},
   "outputs": [],
   "source": []
  }
 ],
 "metadata": {
  "kernelspec": {
   "display_name": "Python 3 (ipykernel)",
   "language": "python",
   "name": "python3"
  },
  "language_info": {
   "codemirror_mode": {
    "name": "ipython",
    "version": 3
   },
   "file_extension": ".py",
   "mimetype": "text/x-python",
   "name": "python",
   "nbconvert_exporter": "python",
   "pygments_lexer": "ipython3",
   "version": "3.11.1"
  }
 },
 "nbformat": 4,
 "nbformat_minor": 5
}
