{
 "cells": [
  {
   "cell_type": "markdown",
   "id": "96d92a06",
   "metadata": {},
   "source": [
    "# Exercise 2-a #"
   ]
  },
  {
   "cell_type": "markdown",
   "id": "084a63b5",
   "metadata": {},
   "source": [
    "<h3>Q1 Input two float operands from user. Apply arithmetic operators on them.</h3>"
   ]
  },
  {
   "cell_type": "code",
   "execution_count": 5,
   "id": "dd0167f1",
   "metadata": {},
   "outputs": [],
   "source": [
    "no1 = float(input(\"Enter 1st Number :\"))\n",
    "no2 = float(input(\"Enter 2nd Number :\"))"
   ]
  },
  {
   "cell_type": "code",
   "execution_count": null,
   "id": "e6d589ff",
   "metadata": {},
   "outputs": [],
   "source": [
    "add = no1+no2\n",
    "sub = no1-no2\n",
    "mult = no1*no2\n",
    "div = no1/no2\n",
    "mod = no1%no2\n",
    "power = no1**no2"
   ]
  },
  {
   "cell_type": "code",
   "execution_count": null,
   "id": "2feb353d",
   "metadata": {},
   "outputs": [
    {
     "name": "stdout",
     "output_type": "stream",
     "text": [
      "Addition : 11.1\n",
      "Subtraction : -0.09999999999999964\n",
      "Multiplication : 30.799999999999997\n",
      "Division : 0.9821428571428572\n",
      "Modulus : 5.5\n",
      "Power : 13996.87426011843\n"
     ]
    }
   ],
   "source": [
    "print(\"Addition :\",add)\n",
    "print(\"Subtraction :\",sub)\n",
    "print(\"Multiplication :\",mult)\n",
    "print(\"Division :\",div)\n",
    "print(\"Modulus :\",mod)\n",
    "print(\"Power :\",power)"
   ]
  },
  {
   "cell_type": "markdown",
   "id": "ba88dee1",
   "metadata": {},
   "source": [
    "<h3>Q2 \n",
    "Input two string operands from user. Check behaviour of relational and logical operators on them. Write your observations.</h3>"
   ]
  },
  {
   "cell_type": "code",
   "execution_count": null,
   "id": "4688cb0d",
   "metadata": {},
   "outputs": [
    {
     "name": "stdout",
     "output_type": "stream",
     "text": [
      "Enter 1st Operand :Hi\n",
      "Enter 2nd Operand :Hlo\n"
     ]
    }
   ],
   "source": [
    "op1=input(\"Enter 1st Operator :\")\n",
    "op2=input(\"enter 2nd Operator :\")"
   ]
  },
  {
   "cell_type": "code",
   "execution_count": null,
   "id": "31935be9",
   "metadata": {},
   "outputs": [
    {
     "name": "stdout",
     "output_type": "stream",
     "text": [
      "1st String : Hi\n",
      "2nd String : Hlo\n",
      "Are Both String Same : False\n",
      "Are Both String Different : True\n",
      "Is 1st String Greater Then 2nd String : False\n",
      "Is 1st String Greater Then And Equal To 2nd String : False\n",
      "Is 1st String Less Then 2nd String : True\n",
      "Is 1st String Less Then And Equal To 2nd String : True\n"
     ]
    }
   ],
   "source": [
    "#Relational Operator\n",
    "print(\"1st String :\",op1)\n",
    "print(\"2nd String :\",op2)\n",
    "print(\"Are Both String Same :\",op1 == op2)\n",
    "print(\"Are Both String Different :\",op1 != op2)\n",
    "print(\"Is 1st String Greater Then 2nd String :\",op1 > op2)\n",
    "print(\"Is 1st String Greater Then And Equal To 2nd String :\",op1 >= op2)\n",
    "print(\"Is 1st String Less Then 2nd String :\",op1 < op2)\n",
    "print(\"Is 1st String Less Then And Equal To 2nd String :\",op1 <= op2)"
   ]
  },
  {
   "cell_type": "markdown",
   "id": "73dc88d3",
   "metadata": {},
   "source": [
    "<h4>So by this problem we can see that we can also do comparisons between strings. These are relational operators and will give output as true and false. So if we use '==' operator then it will check the length and then compare both the entered strings if identical then you will get true as output else will get false. If both the strings are unidentical and we use '!=' then we get true. If we use '>=' and '<=' and if the strings are same then it gives true otherwise if both strings are different then will calculate the length and give true/false depending their length. And for '>' and  '<' it will check lenghts only and give output. The larger the length the bigger the string. One thing to remember is String comparision is case sensetive.</h4>"
   ]
  },
  {
   "cell_type": "code",
   "execution_count": null,
   "id": "2c34dd31",
   "metadata": {},
   "outputs": [
    {
     "name": "stdout",
     "output_type": "stream",
     "text": [
      "1st String : Hi\n",
      "2nd String : Hlo\n",
      "1st String AND 2nd String : Hlo\n",
      "1st String OR 2nd String : Hi\n",
      "NOT 1st String : False\n",
      "Not String : True\n"
     ]
    }
   ],
   "source": [
    "#Logical Operator\n",
    "print(\"1st String :\",op1)\n",
    "print(\"2nd String :\",op2)\n",
    "print(\"1st String AND 2nd String :\",op1 and op2)\n",
    "print(\"1st String OR 2nd String :\",op1 or op2)\n",
    "print(\"NOT 1st String :\",not \"op1\")\n",
    "print(\"Not String :\",not \"\")"
   ]
  },
  {
   "cell_type": "markdown",
   "id": "a991c854",
   "metadata": {},
   "source": [
    "<h4><b>The logical AND operator returns True if both operands are True. When used with strings, it checks if both strings are non-empty (not equal to an empty string \"\").The logical OR operator returns True if at least one of the operands is True. When used with strings, it checks if either string is non-empty.The logical NOT operator negates the truth value of its operand. When used with strings, it checks if the string is empty (equal to \"\").</b></h4>"
   ]
  },
  {
   "cell_type": "markdown",
   "id": "f96762fd",
   "metadata": {},
   "source": [
    "<h3>Q3 Input two int operands from user. Explain behviour of bitwise operators on them.</h3>"
   ]
  },
  {
   "cell_type": "code",
   "execution_count": null,
   "id": "2e42a84f",
   "metadata": {},
   "outputs": [
    {
     "name": "stdout",
     "output_type": "stream",
     "text": [
      "Enter 1st Number :5\n",
      "Enter 2nd Number :10\n"
     ]
    }
   ],
   "source": [
    "no1 = int(input(\"Enter 1st Number :\"))\n",
    "no2 = int(input(\"Enter 2nd Number :\"))"
   ]
  },
  {
   "cell_type": "code",
   "execution_count": null,
   "id": "18f711b0",
   "metadata": {},
   "outputs": [
    {
     "name": "stdout",
     "output_type": "stream",
     "text": [
      "1st Number : 5\n",
      "2nd Number : 10\n",
      "Bitwise AND : 0\n",
      "Bitwise OR : 15\n",
      "Bitwise XOR : 15\n",
      "Bitwise NOT : -6\n",
      "Left Shift : 20\n",
      "Right Shift : 1\n"
     ]
    }
   ],
   "source": [
    "#Bitwise Operators\n",
    "print(\"1st Number :\",no1)\n",
    "print(\"2nd Number :\",no2)\n",
    "print(\"Bitwise AND :\",no1 & no2)\n",
    "print(\"Bitwise or :\",no1 | no2)\n",
    "print(\"Bitwise XOR :\",no1 ^ no2)\n",
    "print(\"Bitwise NOT: \", ~no1)\n",
    "print(\"Left Shift :\",no1 << 2)\n",
    "print(\"Right Shift :\",no2 >> 3)"
   ]
  },
  {
   "cell_type": "markdown",
   "id": "7ac52bcd",
   "metadata": {},
   "source": [
    "<h4><b>\n",
    "Bitwise AND '&' :For each pair of corresponding bits in the operands, the bitwise AND operation returns 1 if both bits are 1; otherwise, it returns 0.\n",
    "<br>\n",
    "Bitwise OR '|' :For each pair of corresponding bits in the operands, the bitwise OR operation returns 1 if either of the bits is 1; otherwise, it returns 0.\n",
    "<br>\n",
    "Bitwise XOR '^' :For each pair of corresponding bits in the operands, the bitwise XOR operation returns 1 if the bits are different; otherwise, it returns 0.    \n",
    "<br>\n",
    "Bitwise NOT '~' :The bitwise NOT operation flips the bits of the operand. It changes 1s to 0s and vice versa.\n",
    "<br>\n",
    "Bitwise Left shift '<<' :The bitwise left shift operation shifts the bits of the left operand to the left by a specified number of positions.\n",
    "<br>\n",
    "Bitwise Right Shift '>>' :The bitwise right shift operation shifts the bits of the left operand to the right by a specified number of positions.\n",
    "</b></h4>"
   ]
  },
  {
   "cell_type": "markdown",
   "id": "89ef96b1",
   "metadata": {},
   "source": [
    "# Exercise 2-b #"
   ]
  },
  {
   "cell_type": "markdown",
   "id": "4b976745",
   "metadata": {},
   "source": [
    "<h3>Q1 Determine whether an integer entered by a user is odd or even.</h3>"
   ]
  },
  {
   "cell_type": "code",
   "execution_count": 1,
   "id": "ddab08a8",
   "metadata": {},
   "outputs": [],
   "source": [
    "no = int(input(\"enter a  number\"))"
   ]
  },
  {
   "cell_type": "code",
   "execution_count": 2,
   "id": "77d66317",
   "metadata": {},
   "outputs": [
    {
     "name": "stdout",
     "output_type": "stream",
     "text": [
      "20 : Even\n"
     ]
    }
   ],
   "source": [
    "if no%2==0:\n",
    "    print(no,': Even')\n",
    "else:\n",
    "    print(no,': Odd')"
   ]
  },
  {
   "cell_type": "markdown",
   "id": "85732c4d",
   "metadata": {},
   "source": [
    "<h3>Q2 Input student details: rollno, name and marks of 3 subjects from user. Calculate total marks, percentage and grade. Print mark-sheet. Determine pass or fail.</h3>"
   ]
  },
  {
   "cell_type": "code",
   "execution_count": 4,
   "id": "e746f9f5",
   "metadata": {},
   "outputs": [
    {
     "name": "stdout",
     "output_type": "stream",
     "text": [
      "---------- Mark Sheet ----------\n",
      "Roll No: 55\n",
      "Name: jay\n",
      "Subject 1: 80.0\n",
      "Subject 2: 70.0\n",
      "Subject 3: 90.0\n",
      "Total Marks: 240.0\n",
      "Percentage: 80.0\n",
      "Grade: B\n",
      "Status: Pass\n"
     ]
    }
   ],
   "source": [
    "\n",
    "roll_no= input(\"Enter roll number: \")\n",
    "name=input(\"Enter name: \")\n",
    "subject1=float(input(\"enter a marks for subject 1: \"))\n",
    "subject2=float(input(\"enter a marks for subject 2: \"))\n",
    "subject3=float(input(\"enter a marks for subject 3: \"))\n",
    "\n",
    "\n",
    "# Calculate total marks\n",
    "total_marks = subject1 + subject2 + subject3\n",
    "\n",
    "# Calculate percentage\n",
    "percentage = total_marks / 3\n",
    "\n",
    "# Determine grade\n",
    "if percentage >= 90:\n",
    "    grade = 'A'\n",
    "elif percentage >= 80:\n",
    "    grade = 'B'\n",
    "elif percentage >= 70:\n",
    "    grade = 'C'\n",
    "elif percentage >= 60:\n",
    "    grade = 'D'\n",
    "else:\n",
    "    grade = 'F'\n",
    "\n",
    "# Determine pass or fail\n",
    "if grade != 'F':\n",
    "    status = 'Pass'\n",
    "else:\n",
    "    status = 'Fail'\n",
    "\n",
    "# Print mark sheet\n",
    "print(\"---------- Mark Sheet ----------\")\n",
    "print(\"Roll No:\", roll_no)\n",
    "print(\"Name:\", name)\n",
    "print(\"Subject 1:\", subject1)\n",
    "print(\"Subject 2:\", subject2)\n",
    "print(\"Subject 3:\", subject3)\n",
    "print(\"Total Marks:\", total_marks)\n",
    "print(\"Percentage:\", percentage)\n",
    "print(\"Grade:\", grade)\n",
    "print(\"Status:\", status)\n"
   ]
  },
  {
   "cell_type": "markdown",
   "id": "5c0449a6",
   "metadata": {},
   "source": [
    "<h3>Q3 Input employee details: empno, name, gender, basic salary from user. Calculate DA (Of basic salary to 80% male, 70% to female ), HRA (Of basic salary 15% to female, 10% to male) and net salary. Also calculate gross (yearly) salary which also includes bonus (Of one basic salary 50% to male, 55% to female).</h3>"
   ]
  },
  {
   "cell_type": "code",
   "execution_count": 6,
   "id": "9c18b839",
   "metadata": {},
   "outputs": [
    {
     "name": "stdout",
     "output_type": "stream",
     "text": [
      "\n",
      "Employee Details\n",
      "Employee Number: 1001\n",
      "Employee Name: Raj\n",
      "Gender: M\n",
      "\n",
      "Allowances\n",
      "DA: 40000.0\n",
      "HRA: 7500.0\n",
      "\n",
      "Net Salary: 97500.0\n",
      "Gross Salary (with bonus): 100000.0\n"
     ]
    }
   ],
   "source": [
    "# Taking input from the user\n",
    "empno = input(\"Enter employee number: \")\n",
    "name = input(\"Enter employee name: \")\n",
    "gender = input(\"Enter employee gender (M/F): \")\n",
    "basic_salary = float(input(\"Enter employee basic salary: \"))\n",
    "\n",
    "# Calculating DA\n",
    "if gender == \"M\":\n",
    "    da = 0.8 * basic_salary\n",
    "else:\n",
    "    da = 0.7 * basic_salary\n",
    "\n",
    "#calculating HRA\n",
    "if gender == \"M\":\n",
    "    hra=0.15*basic_salary\n",
    "else:\n",
    "    hra=0.12*basic_salary \n",
    "\n",
    "# Calculating net salary\n",
    "net_salary=basic_salary+da+hra\n",
    "\n",
    "# Calculating bonus\n",
    "if gender == \"M\":\n",
    "    bonus = 0.05 * basic_salary\n",
    "else:\n",
    "    bonus = 0.07 * basic_salary\n",
    "\n",
    "gross_salary = net_salary + bonus\n",
    "\n",
    "# Displaying the results\n",
    "print(\"\\nEmployee Details\")\n",
    "print(\"Employee Number:\", empno)\n",
    "print(\"Employee Name:\", name)\n",
    "print(\"Gender:\", gender)\n",
    "\n",
    "print(\"\\nAllowances\")\n",
    "print(\"DA:\", da)\n",
    "print(\"HRA:\", hra)\n",
    "\n",
    "print(\"\\nNet Salary:\", net_salary)\n",
    "print(\"Gross Salary (with bonus):\", gross_salary)"
   ]
  },
  {
   "cell_type": "markdown",
   "id": "0171e1f0",
   "metadata": {},
   "source": [
    "<h3>Q4 \n",
    "Check whether your birthdate has already gone or it is about to come in the current year.</h3>"
   ]
  },
  {
   "cell_type": "code",
   "execution_count": null,
   "id": "90962699",
   "metadata": {},
   "outputs": [
    {
     "name": "stdout",
     "output_type": "stream",
     "text": [
      "Your birthdate has already occurred in the current year.\n"
     ]
    }
   ],
   "source": [
    "from datetime import datetime\n",
    "\n",
    "birthdate = datetime.strptime(\"2001-06-06\", \"%Y-%m-%d\").date() \n",
    "current_date = datetime.now().date()\n",
    "birthdate = birthdate.replace(year=current_date.year)  \n",
    "\n",
    "if birthdate < current_date:\n",
    "    print(\"Your birthdate has already occurred in the current year.\")\n",
    "elif birthdate == current_date:\n",
    "    print(\"Happy birthday! Today is your birthdate.\")\n",
    "else:\n",
    "    print(\"Your birthdate is yet to come in the current year.\")\n"
   ]
  },
  {
   "cell_type": "markdown",
   "id": "56046cd3",
   "metadata": {},
   "source": [
    "<h3>Q5 Determine whether current year is leap year or not</h3>"
   ]
  },
  {
   "cell_type": "code",
   "execution_count": null,
   "id": "4d76884f",
   "metadata": {},
   "outputs": [
    {
     "name": "stdout",
     "output_type": "stream",
     "text": [
      "Enter Year :2022\n",
      "2022 Not Leap Year\n"
     ]
    }
   ],
   "source": [
    "year = int(input(\"Enter Year :\"))\n",
    "if (year % 4 == 0 and year % 100 != 0) or (year % 400 == 0):\n",
    "    print(year,\"Leap Year\")\n",
    "else:\n",
    "    print(year,\"Not Leap Year\")"
   ]
  },
  {
   "cell_type": "markdown",
   "id": "2a7755dd",
   "metadata": {},
   "source": [
    "# Exercise 2-c #"
   ]
  },
  {
   "cell_type": "markdown",
   "id": "229780a8",
   "metadata": {},
   "source": [
    "<h3>Q1 Print multiplication table of a number entered by user.</h3>"
   ]
  },
  {
   "cell_type": "code",
   "execution_count": null,
   "id": "c099e059",
   "metadata": {},
   "outputs": [
    {
     "name": "stdout",
     "output_type": "stream",
     "text": [
      "Enter Number :4\n",
      "4 * 1 = 4\n",
      "4 * 2 = 8\n",
      "4 * 3 = 12\n",
      "4 * 4 = 16\n",
      "4 * 5 = 20\n",
      "4 * 6 = 24\n",
      "4 * 7 = 28\n",
      "4 * 8 = 32\n",
      "4 * 9 = 36\n",
      "4 * 10 = 40\n"
     ]
    }
   ],
   "source": [
    "no = int(input(\"Enter Number :\"))\n",
    "for i in range (1,11):\n",
    "    print(no,'*',i,'=',no*i)"
   ]
  },
  {
   "cell_type": "markdown",
   "id": "877be081",
   "metadata": {},
   "source": [
    "<h3>Q2 \n",
    "Compute factorial of a number given by user.</h3>"
   ]
  },
  {
   "cell_type": "code",
   "execution_count": null,
   "id": "967b6013",
   "metadata": {},
   "outputs": [
    {
     "name": "stdout",
     "output_type": "stream",
     "text": [
      "Enter Number :6\n",
      "Factorial : 720\n"
     ]
    }
   ],
   "source": [
    "no = int(input(\"Enter Number :\"))\n",
    "fact = 1\n",
    "if no>0:\n",
    "    for i in range (1,no+1):\n",
    "        fact = fact *i\n",
    "    print(\"Factorial :\",fact)\n",
    "elif no == 0:\n",
    "    print(\"Factorial : 1\")\n",
    "else:\n",
    "    print(\"Cant Find Factorial...\")"
   ]
  },
  {
   "cell_type": "markdown",
   "id": "2cc1feaa",
   "metadata": {},
   "source": [
    "<h3>Q3 \n",
    "Determine whether a number entered by user is prime or not.</h3>"
   ]
  },
  {
   "cell_type": "code",
   "execution_count": null,
   "id": "ea25023d",
   "metadata": {},
   "outputs": [
    {
     "name": "stdout",
     "output_type": "stream",
     "text": [
      "Enter a number: 4\n",
      "4 is not a prime number.\n"
     ]
    }
   ],
   "source": [
    "num = int(input(\"Enter a number: \"))\n",
    "if num < 2:\n",
    "    is_prime = False\n",
    "else:\n",
    "    is_prime = True\n",
    "    for i in range(2, int(num**0.5) + 1):\n",
    "        if num % i == 0:\n",
    "            is_prime = False\n",
    "            break\n",
    "\n",
    "if is_prime:\n",
    "    print(num, \"is a prime number.\")\n",
    "else:\n",
    "    print(num, \"is not a prime number.\")\n"
   ]
  },
  {
   "cell_type": "markdown",
   "id": "4ab65641",
   "metadata": {},
   "source": [
    "<h3>Q4 \n",
    "Determine whether a string entered by user is palindrome or not.</h3>"
   ]
  },
  {
   "cell_type": "code",
   "execution_count": null,
   "id": "3ffa5896",
   "metadata": {},
   "outputs": [],
   "source": []
  }
 ],
 "metadata": {
  "kernelspec": {
   "display_name": "Python 3 (ipykernel)",
   "language": "python",
   "name": "python3"
  },
  "language_info": {
   "codemirror_mode": {
    "name": "ipython",
    "version": 3
   },
   "file_extension": ".py",
   "mimetype": "text/x-python",
   "name": "python",
   "nbconvert_exporter": "python",
   "pygments_lexer": "ipython3",
   "version": "3.11.1"
  }
 },
 "nbformat": 4,
 "nbformat_minor": 5
}
