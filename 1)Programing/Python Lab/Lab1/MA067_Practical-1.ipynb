{
 "cells": [
  {
   "cell_type": "markdown",
   "metadata": {},
   "source": [
    "# Practical - 1 "
   ]
  },
  {
   "cell_type": "markdown",
   "metadata": {},
   "source": [
    "<h3 align=\"center\">EXERCISES</h3>"
   ]
  },
  {
   "cell_type": "markdown",
   "metadata": {},
   "source": [
    "<b>1.</b>Input user's fullname, age, complete address, phone number on screen. Print them in proper way on screen."
   ]
  },
  {
   "cell_type": "code",
   "execution_count": 3,
   "metadata": {},
   "outputs": [
    {
     "name": "stdout",
     "output_type": "stream",
     "text": [
      "Full Name: 7498068987\n",
      "Age: jaymin valaki\n",
      "Address: 21\n",
      "Phone Number: ahmdabad\n"
     ]
    }
   ],
   "source": [
    "name=input(\"Enter Full Name:\")\n",
    "age=input(\"Enter Age:\")\n",
    "Address=input(\"Enter Complete Address:\")\n",
    "Phone=input(\"Enter Phone Number:\")\n",
    "print(\"Full Name:\",name)\n",
    "print(\"Age:\",age)\n",
    "print(\"Address:\",Address)\n",
    "print(\"Phone Number:\",Phone)\n"
   ]
  },
  {
   "cell_type": "markdown",
   "metadata": {},
   "source": [
    "<b>2.</b>Input two integer operands from user. Print their summation, difference, multiplication and division."
   ]
  },
  {
   "cell_type": "code",
   "execution_count": 13,
   "metadata": {},
   "outputs": [
    {
     "name": "stdout",
     "output_type": "stream",
     "text": [
      "\n",
      "Arithmatic Operation: \n",
      " Addition= 15 \n",
      " Difference= 5\n",
      " Multiplication= 50 \n",
      " Division= 2.0\n"
     ]
    }
   ],
   "source": [
    "num1=int(input(\"Enter First Number:\"))\n",
    "num2=int(input(\"Enter Second Number:\"))\n",
    "\n",
    "print(\"\\nArithmatic Operation:\",\"\\n\",\"Addition=\",num1+num2,\"\\n\",\"Difference=\",num1-num2)\n",
    "print(\" Multiplication=\",num1*num2,\"\\n\",\"Division=\",num1/num2)"
   ]
  },
  {
   "cell_type": "markdown",
   "metadata": {},
   "source": [
    "<b>3.</b>Input/read principal amount(P), rate of interest(R) and Duraton in Number of years (N) from user. Compute Simple Interest."
   ]
  },
  {
   "cell_type": "code",
   "execution_count": 12,
   "metadata": {},
   "outputs": [
    {
     "name": "stdout",
     "output_type": "stream",
     "text": [
      "Simple Interest is  24000.0\n"
     ]
    }
   ],
   "source": [
    "p=float(input(\"Enter Principal Amount:\"))\n",
    "r=float(input(\"Enter Rate of Interest:\"))\n",
    "n=float(input(\"Enter Duration in Year:\"))\n",
    "\n",
    "si=(p*r*n)/100\n",
    "\n",
    "print(\"Simple Interest is \", si)"
   ]
  },
  {
   "cell_type": "markdown",
   "metadata": {},
   "source": [
    "<b>4.</b>Compute compound interest in above program."
   ]
  },
  {
   "cell_type": "code",
   "execution_count": 11,
   "metadata": {},
   "outputs": [
    {
     "name": "stdout",
     "output_type": "stream",
     "text": [
      "Compute Compound interest:\n",
      "So, Compound Interest is  133100.00000000003\n"
     ]
    }
   ],
   "source": [
    "print(\"Compute Compound interest:\")\n",
    "p=float(input(\"Enter Principal Amount:\"))\n",
    "r=float(input(\"Enter Rate of Interest:\"))\n",
    "n=float(input(\"Enter Duration(year):\"))\n",
    "\n",
    "ci=p*(1+r/100)**n\n",
    "\n",
    "print(\"So, Compound Interest is \", ci)"
   ]
  },
  {
   "cell_type": "markdown",
   "metadata": {},
   "source": [
    "<b>5.</b>Input radius of circle from user. Compute diameter, perimeter and area of circle."
   ]
  },
  {
   "cell_type": "code",
   "execution_count": 9,
   "metadata": {},
   "outputs": [
    {
     "name": "stdout",
     "output_type": "stream",
     "text": [
      "Operation of Circle\n",
      "\n",
      " Diametere Of Circle= 8.0 \n",
      " Perimeter of Circle= 25.142857142857142 \n",
      " Area Of circle= 97.56601416076634\n"
     ]
    }
   ],
   "source": [
    "radius=float(input(\"Enter Radius Of Circle:\"))\n",
    "\n",
    "diameter=radius*2\n",
    "perimeter=2*(22/7)*radius\n",
    "area=(22/7)**radius\n",
    "print(\"Operation of Circle\")\n",
    "print(\"\\n Diametere Of Circle=\",diameter,\"\\n\",\"Perimeter of Circle=\",perimeter,\"\\n\",\"Area Of circle=\",area)\n"
   ]
  },
  {
   "cell_type": "markdown",
   "metadata": {},
   "source": [
    "<b>6.<b>Input student details: rollno, name and marks of 4 subjects from user. Calculate total marks, percentage and grade. Print mark-sheet."
   ]
  },
  {
   "cell_type": "code",
   "execution_count": 21,
   "metadata": {},
   "outputs": [
    {
     "name": "stdout",
     "output_type": "stream",
     "text": [
      "Enter 4 Subject Mark:\n",
      "Roll No.: 67 \n",
      " Name: jay\n",
      "Subject\t\tMarks\n",
      "PP\t\t 80\n",
      "PHP\t\t 90\n",
      "MAD\t\t 80\n",
      ".NET\t\t 90\n",
      "Total: 340 \t|\tPrecentage: 85.0 \t|\t Grade: B\n"
     ]
    }
   ],
   "source": [
    "rollNo=int(input(\"Enter Roll Number:\"))\n",
    "name=input(\"Enter Name:\")\n",
    "print(\"Enter 4 Subject Mark:\")\n",
    "sub1=int(input(\"PP Marks:\"))\n",
    "sub2=int(input(\"PHP Marks:\"))\n",
    "sub3=int(input(\"MAD Marks:\"))\n",
    "sub4=int(input(\".NET Marks:\"))\n",
    "\n",
    "Total=sub1+sub2+sub3+sub4\n",
    "\n",
    "percentage=Total/4 \n",
    " \n",
    "grade=input(\"Enter Grade:\")\n",
    "print(\"Roll No.:\",rollNo,\"\\n Name:\",name)\n",
    "print('Subject\\t\\tMarks')\n",
    "print(\"PP\\t\\t\",sub1)\n",
    "print(\"PHP\\t\\t\",sub2)\n",
    "print(\"MAD\\t\\t\",sub3)\n",
    "print(\".NET\\t\\t\",sub4)\n",
    "print(\"Total:\",Total,\"\\t|\\tPrecentage:\",percentage,\"\\t|\\t\",\"Grade:\",grade)"
   ]
  },
  {
   "cell_type": "markdown",
   "metadata": {},
   "source": [
    "<b>7.Input employee details: empno, name, gender, basic salary from user. Calculate DA (110% of basic salary ), HRA (5% of basic salary) and total salary. Also calculate yearly gross salary which also \n",
    "includes bonus (50% of one basic salary).</b>"
   ]
  },
  {
   "cell_type": "code",
   "execution_count": null,
   "metadata": {},
   "outputs": [],
   "source": []
  },
  {
   "cell_type": "code",
   "execution_count": 8,
   "metadata": {},
   "outputs": [
    {
     "name": "stdout",
     "output_type": "stream",
     "text": [
      "\n",
      "Employee Details:\n",
      "Employee Number: vaibhav\n",
      "Employee Name: 101\n",
      "Employee Gender: male\n",
      "Basic Salary: 20000.0\n",
      "DA: 22000.0\n",
      "HRA: 1000.0\n",
      "Total Salary(monthly):  43000.0\n",
      "Yearly Gross Salary (including bonus): 250000.0\n"
     ]
    }
   ],
   "source": [
    "empno=input(\"Enter Employee Number:\")\n",
    "name=input(\"Enter Name:\")\n",
    "gender=input(\"Enter Gender:\")\n",
    "basicSalary=float(input(\"Enter Basic Salary:\"))\n",
    "\n",
    "da=basicSalary*(110/100)\n",
    "HRA=basicSalary*(5/100)\n",
    "\n",
    "TotalSalary=basicSalary+da+HRA\n",
    "bonus=basicSalary*(50/100)\n",
    "YearlyGrossSalary=basicSalary*12+bonus\n",
    "\n",
    "print(\"\\nEmployee Details:\")\n",
    "print(\"Employee Number:\", empno)\n",
    "print(\"Employee Name:\", name)\n",
    "print(\"Employee Gender:\", gender)\n",
    "print(\"Basic Salary:\", basicSalary)\n",
    "print(\"DA:\", da)\n",
    "print(\"HRA:\", HRA)\n",
    "print(\"Total Salary(monthly): \", TotalSalary)\n",
    "print(\"Yearly Gross Salary (including bonus):\", YearlyGrossSalary)\n"
   ]
  },
  {
   "cell_type": "markdown",
   "metadata": {},
   "source": [
    "<b>8.</b>Compute area and perimeter of a rectangle."
   ]
  },
  {
   "cell_type": "code",
   "execution_count": 14,
   "metadata": {},
   "outputs": [
    {
     "name": "stdout",
     "output_type": "stream",
     "text": [
      "Area of Reactangle:  120.0\n",
      "perimeter of reactangle:  44.0\n"
     ]
    }
   ],
   "source": [
    "height=float(input(\"Enter Height Of Reactangle:\"))\n",
    "width=float(input(\"Enter width of Reactangle:\"))\n",
    "\n",
    "print(\"Area of Reactangle: \",height*width)\n",
    "print(\"perimeter of reactangle: \",2*(width+height))"
   ]
  },
  {
   "cell_type": "markdown",
   "metadata": {},
   "source": [
    "<b>9.</b>(i) Celcius to Fahrenheit. (ii) Fahrenheit to Celcius."
   ]
  },
  {
   "cell_type": "code",
   "execution_count": 26,
   "metadata": {},
   "outputs": [
    {
     "name": "stdout",
     "output_type": "stream",
     "text": [
      "#Conver Celcius to Fahrenheit-\n",
      "celcius= 25.0  is same as Fahrenheit= 77.0\n",
      "#Conver Fahrenheit to Celcius-\n",
      "Fahrenheit= 70.0  is same as Celcius= 21.11111111111111\n"
     ]
    }
   ],
   "source": [
    "print(\"#Conver Celcius to Fahrenheit-\")\n",
    "celcius=float(input(\"Enter Celcius:\"))\n",
    "\n",
    "fahrenheit=(celcius * 9/5) + 32\n",
    "\n",
    "print(\"celcius=\",celcius,\" is same as Fahrenheit=\",fahrenheit)\n",
    "\n",
    "print(\"#Conver Fahrenheit to Celcius-\")\n",
    "Fahrenheit=float(input(\"Enter Fahrenheit:\"))\n",
    "\n",
    "Celcius=(Fahrenheit -32) * 5/9\n",
    "\n",
    "print(\"Fahrenheit=\",Fahrenheit,\" is same as Celcius=\",Celcius)"
   ]
  },
  {
   "cell_type": "markdown",
   "metadata": {},
   "source": [
    "<b>10.</b>(i) Show current date. (ii) Show current time. (iii) Show current date and time."
   ]
  },
  {
   "cell_type": "code",
   "execution_count": 7,
   "metadata": {},
   "outputs": [
    {
     "name": "stdout",
     "output_type": "stream",
     "text": [
      "(i) Show current date.\n",
      "Current date: 2023-07-10\n",
      "(i) Show current Time.\n",
      "Current date: 00:04:28.385114\n"
     ]
    }
   ],
   "source": [
    "import datetime\n",
    "print(\"(i) Show current date.\")\n",
    "cdt=datetime.datetime.now()\n",
    "print(\"Current date:\",cdt.date())\n",
    "\n",
    "print(\"(i) Show current Time.\")\n",
    "print(\"Current date:\",cdt.time())"
   ]
  },
  {
   "cell_type": "markdown",
   "metadata": {},
   "source": [
    "<b>11.</b>Store your birthdate (in a valid date format) in a variable.\n"
   ]
  },
  {
   "cell_type": "code",
   "execution_count": 15,
   "metadata": {},
   "outputs": [
    {
     "name": "stdout",
     "output_type": "stream",
     "text": [
      "My birth date is  2001-10-25\n"
     ]
    }
   ],
   "source": [
    "dob=datetime.date(2001, 10, 25)\n",
    "print(\"My birth date is \",dob)"
   ]
  },
  {
   "cell_type": "markdown",
   "metadata": {},
   "source": []
  }
 ],
 "metadata": {
  "kernelspec": {
   "display_name": "env",
   "language": "python",
   "name": "python3"
  },
  "language_info": {
   "codemirror_mode": {
    "name": "ipython",
    "version": 3
   },
   "file_extension": ".py",
   "mimetype": "text/x-python",
   "name": "python",
   "nbconvert_exporter": "python",
   "pygments_lexer": "ipython3",
   "version": "3.11.1"
  },
  "orig_nbformat": 4
 },
 "nbformat": 4,
 "nbformat_minor": 2
}
