{
 "cells": [
  {
   "cell_type": "code",
   "execution_count": 4,
   "id": "d1de9c43",
   "metadata": {},
   "outputs": [
    {
     "name": "stdout",
     "output_type": "stream",
     "text": [
      "jay\n"
     ]
    }
   ],
   "source": [
    "a={\"name\": \"jay\",\n",
    "    \"age\":18 \n",
    "  }\n",
    "print(a[\"name\"])"
   ]
  },
  {
   "cell_type": "code",
   "execution_count": 11,
   "id": "f81c26f3",
   "metadata": {},
   "outputs": [
    {
     "name": "stdout",
     "output_type": "stream",
     "text": [
      "name\n",
      "age\n"
     ]
    }
   ],
   "source": [
    "for i in a.keys():\n",
    "   print(i)"
   ]
  },
  {
   "cell_type": "code",
   "execution_count": 12,
   "id": "2ad109fe",
   "metadata": {},
   "outputs": [
    {
     "name": "stdout",
     "output_type": "stream",
     "text": [
      "{'name': 'jay', 'age': 18, 'city': 'abc'}\n"
     ]
    }
   ],
   "source": [
    "dict={\"name\": \"jay\",\n",
    "    \"age\":18   \n",
    "}\n",
    "dict[\"city\"]=\"abc\"\n",
    "print(dict)"
   ]
  },
  {
   "cell_type": "code",
   "execution_count": 13,
   "id": "42d494c8",
   "metadata": {},
   "outputs": [
    {
     "name": "stdout",
     "output_type": "stream",
     "text": [
      "dict_keys(['name', 'age', 'city'])\n"
     ]
    }
   ],
   "source": [
    "print(dict.keys())"
   ]
  },
  {
   "cell_type": "code",
   "execution_count": 14,
   "id": "6567b23e",
   "metadata": {},
   "outputs": [
    {
     "name": "stdout",
     "output_type": "stream",
     "text": [
      "dict_values(['jay', 18, 'abc'])\n"
     ]
    }
   ],
   "source": [
    "print(dict.values())"
   ]
  },
  {
   "cell_type": "code",
   "execution_count": 15,
   "id": "5fd7f786",
   "metadata": {},
   "outputs": [
    {
     "name": "stdout",
     "output_type": "stream",
     "text": [
      "dict_items([('name', 'jay'), ('age', 18), ('city', 'abc')])\n"
     ]
    }
   ],
   "source": [
    "print(dict.items())"
   ]
  },
  {
   "cell_type": "code",
   "execution_count": 16,
   "id": "3a8a1997",
   "metadata": {},
   "outputs": [],
   "source": [
    "import datetime"
   ]
  },
  {
   "cell_type": "code",
   "execution_count": 18,
   "id": "31fcf78a",
   "metadata": {},
   "outputs": [
    {
     "name": "stdout",
     "output_type": "stream",
     "text": [
      "2023-08-04 07:54:35.629856\n"
     ]
    }
   ],
   "source": [
    "cd=datetime.datetime.now()\n",
    "print(cd)"
   ]
  },
  {
   "cell_type": "code",
   "execution_count": 22,
   "id": "49a463d6",
   "metadata": {},
   "outputs": [
    {
     "name": "stdout",
     "output_type": "stream",
     "text": [
      "2023\n",
      "2023-04-05 00:00:00\n",
      "2023-08-04\n"
     ]
    }
   ],
   "source": [
    "year=cd.year\n",
    "print(year)\n",
    "sd=datetime.datetime(2023,4,5)\n",
    "print(sd)\n",
    "fd=cd.strftime(\"%Y-%m-%d\")\n",
    "print(fd)"
   ]
  },
  {
   "cell_type": "code",
   "execution_count": 27,
   "id": "92dcc84f",
   "metadata": {},
   "outputs": [
    {
     "data": {
      "text/plain": [
       "datetime.datetime(2023, 4, 3, 0, 0)"
      ]
     },
     "execution_count": 27,
     "metadata": {},
     "output_type": "execute_result"
    }
   ],
   "source": [
    "from datetime import datetime\n",
    "cd1=datetime.now()\n",
    "cd1\n",
    "sd1=datetime.strptime(\"2023-04-03\",\"%Y-%m-%d\")\n",
    "sd1"
   ]
  },
  {
   "cell_type": "code",
   "execution_count": 35,
   "id": "d5fb280f",
   "metadata": {},
   "outputs": [
    {
     "name": "stdout",
     "output_type": "stream",
     "text": [
      "2023-08-05 08:03:33.110372\n",
      "2023-08-04 06:03:33.110372\n"
     ]
    }
   ],
   "source": [
    "from datetime import timedelta\n",
    "current_datetime=datetime.now()\n",
    "# Add 1 day to the current date\n",
    "one_day_later = current_datetime + timedelta(days=1)\n",
    "\n",
    "# Subtract 2 hours from the current time\n",
    "two_hours_ago = current_datetime - timedelta(hours=2)\n",
    "\n",
    "print(one_day_later)\n",
    "print(two_hours_ago)\n"
   ]
  },
  {
   "cell_type": "code",
   "execution_count": 43,
   "id": "e6d1ccde",
   "metadata": {},
   "outputs": [
    {
     "name": "stdout",
     "output_type": "stream",
     "text": [
      "{1: 111, 2: 222, 3: 333}\n",
      "{1: 111, 2: 222, 3: 333}\n",
      "{1: 111, 2: 222, 3: 333, '4': 444}\n",
      "{1: 111, 2: 222, 3: 333}\n"
     ]
    }
   ],
   "source": [
    "d={1:111,2:222,3:333}\n",
    "dnew=d.copy()\n",
    "print(d)\n",
    "print(dnew)\n",
    "dnew[\"4\"]=444\n",
    "print(dnew)\n",
    "print(d)"
   ]
  },
  {
   "cell_type": "code",
   "execution_count": 46,
   "id": "a10c957b",
   "metadata": {},
   "outputs": [
    {
     "name": "stdout",
     "output_type": "stream",
     "text": [
      "1\n",
      "3\n",
      "5\n",
      "7\n",
      "9\n",
      "11\n",
      "13\n",
      "15\n",
      "17\n",
      "19\n",
      "21\n",
      "23\n",
      "25\n",
      "27\n",
      "29\n",
      "31\n",
      "33\n",
      "35\n",
      "37\n",
      "39\n",
      "41\n",
      "43\n",
      "45\n",
      "47\n",
      "49\n",
      "51\n",
      "53\n",
      "55\n",
      "57\n",
      "59\n",
      "61\n",
      "63\n",
      "65\n",
      "67\n",
      "69\n",
      "71\n",
      "73\n",
      "75\n",
      "77\n",
      "79\n",
      "81\n",
      "83\n",
      "85\n",
      "87\n",
      "89\n",
      "91\n",
      "93\n",
      "95\n",
      "97\n",
      "99\n"
     ]
    }
   ],
   "source": [
    "list=[]\n",
    "for i in range(1,101,2):\n",
    "    list.append(i)\n",
    "    print(i)    "
   ]
  },
  {
   "cell_type": "code",
   "execution_count": 64,
   "id": "03cfc15f",
   "metadata": {},
   "outputs": [
    {
     "name": "stdout",
     "output_type": "stream",
     "text": [
      "no\n"
     ]
    }
   ],
   "source": [
    "import sys\n",
    "integer=[int(arg) for arg in sys.argv[1:] if arg.isdigit()]\n",
    "if integers:\n",
    "    max=max(interges)\n",
    "    sum=sum(integers)\n",
    "    print(\"i\",integers,max,sum)\n",
    "else:\n",
    "    print(\"no\")\n"
   ]
  },
  {
   "cell_type": "code",
   "execution_count": 71,
   "id": "73263519",
   "metadata": {},
   "outputs": [
    {
     "name": "stdout",
     "output_type": "stream",
     "text": [
      "Enter the real part of the first complex number: 4\n",
      "Enter the imaginary part of the first complex number: 4\n",
      "Enter the real part of the second complex number: 2\n",
      "Enter the imaginary part of the second complex number: 2\n",
      "Addition: (6+6j)\n",
      "Subtraction: (2+2j)\n",
      "Multiplication: 16j\n"
     ]
    }
   ],
   "source": [
    "    real_part1 = float(input(\"Enter the real part of the first complex number: \"))\n",
    "    imag_part1 = float(input(\"Enter the imaginary part of the first complex number: \"))\n",
    "    complex1 = complex(real_part1, imag_part1)\n",
    "\n",
    "    real_part2 = float(input(\"Enter the real part of the second complex number: \"))\n",
    "    imag_part2 = float(input(\"Enter the imaginary part of the second complex number: \"))\n",
    "    complex2 = complex(real_part2, imag_part2)\n",
    "\n",
    "    # Perform complex operations\n",
    "    addition = complex1 + complex2\n",
    "    subtraction = complex1 - complex2\n",
    "    multiplication = complex1 * complex2\n",
    "\n",
    "    # Display results\n",
    "    print(\"Addition:\", addition)\n",
    "    print(\"Subtraction:\", subtraction)\n",
    "    print(\"Multiplication:\", multiplication)\n"
   ]
  },
  {
   "cell_type": "code",
   "execution_count": 3,
   "id": "1dde2849",
   "metadata": {},
   "outputs": [
    {
     "name": "stdout",
     "output_type": "stream",
     "text": [
      "Enter a date (yyyy-mm-dd): 2001-02-12\n",
      "Enter a date (yyyy-mm-dd): 2002-02-11\n",
      "Enter a date (yyyy-mm-dd): 2001-11-11\n",
      "Enter a date (yyyy-mm-dd): 2004-11-12\n",
      "Enter a date (yyyy-mm-dd): 2005-11-13\n",
      "2005-11-13\n",
      "2004-11-12\n",
      "2002-02-11\n",
      "2001-11-11\n",
      "2001-02-12\n"
     ]
    }
   ],
   "source": [
    "from datetime import datetime\n",
    "\n",
    "bod = []\n",
    "for i in range(1, 6):\n",
    "    date = input(\"Enter a date (yyyy-mm-dd): \")\n",
    "    date1 = datetime.strptime(date, '%Y-%m-%d')\n",
    "    bod.append(date1)\n",
    "\n",
    "bod.sort(reverse=True)\n",
    "for date in bod:\n",
    "    print(date.strftime('%Y-%m-%d'))\n"
   ]
  },
  {
   "cell_type": "code",
   "execution_count": 7,
   "id": "86994d6f",
   "metadata": {},
   "outputs": [
    {
     "name": "stdout",
     "output_type": "stream",
     "text": [
      "Enter a sentence: hello how hi hello\n",
      "['hi', 'how', 'hello', 'hello']\n"
     ]
    }
   ],
   "source": [
    "sentence = input(\"Enter a sentence: \")\n",
    "words = sentence.split()\n",
    "words.sort(key=len)\n",
    "print(words)\n"
   ]
  },
  {
   "cell_type": "code",
   "execution_count": 9,
   "id": "880f317d",
   "metadata": {},
   "outputs": [
    {
     "name": "stdout",
     "output_type": "stream",
     "text": [
      "Enter a sentence: hi hi bolo kem\n",
      "hi bolo kem\n"
     ]
    }
   ],
   "source": [
    "sentence = input(\"Enter a sentence: \")\n",
    "words = sentence.split()\n",
    "result = []\n",
    "for i in range(len(words)):\n",
    "    if i == 0 or words[i] != words[i-1]:\n",
    "        result.append(words[i])\n",
    "print(' '.join(result))\n"
   ]
  },
  {
   "cell_type": "code",
   "execution_count": 10,
   "id": "9afe8399",
   "metadata": {},
   "outputs": [
    {
     "name": "stdout",
     "output_type": "stream",
     "text": [
      "Enter a bitwise operator: |\n",
      "Enter the first operand: 1\n",
      "Enter the second operand: 2\n",
      "Result: 3\n",
      "Do you want to continue (y/n)? y\n",
      "Enter a bitwise operator: &\n",
      "Enter the first operand: 2\n",
      "Enter the second operand: 3\n",
      "Result: 2\n",
      "Do you want to continue (y/n)? n\n"
     ]
    }
   ],
   "source": [
    "while True:\n",
    "    operator = input(\"Enter a bitwise operator: \")\n",
    "    if operator in ['&', '|', '^', '<<', '>>']:\n",
    "        operand1 = int(input(\"Enter the first operand: \"))\n",
    "        operand2 = int(input(\"Enter the second operand: \"))\n",
    "        if operator == '&':\n",
    "            result = operand1 & operand2\n",
    "        elif operator == '|':\n",
    "            result = operand1 | operand2\n",
    "        elif operator == '^':\n",
    "            result = operand1 ^ operand2\n",
    "        elif operator == '<<':\n",
    "            result = operand1 << operand2\n",
    "        elif operator == '>>':\n",
    "            result = operand1 >> operand2\n",
    "    elif operator == '~':\n",
    "        operand = int(input(\"Enter the operand: \"))\n",
    "        result = ~operand\n",
    "    else:\n",
    "        print(\"Invalid operator\")\n",
    "        continue\n",
    "    print(\"Result:\", result)\n",
    "    cont = input(\"Do you want to continue (y/n)? \")\n",
    "    if cont.lower() != 'y':\n",
    "        break\n"
   ]
  },
  {
   "cell_type": "code",
   "execution_count": 17,
   "id": "9388f4a6",
   "metadata": {},
   "outputs": [
    {
     "name": "stdout",
     "output_type": "stream",
     "text": [
      "There are 0 prime numbers in the dictionary.\n"
     ]
    }
   ],
   "source": [
    "def isprime(n):\n",
    "    if n<=1:\n",
    "        return False\n",
    "    for i in range(2,n):\n",
    "        if n%i==0:\n",
    "            return False\n",
    "    return True\n",
    "\n",
    "dict={}\n",
    "prime=0\n",
    "for i in range(2):\n",
    "    if isprime(i):\n",
    "        dict[i]=\"prime\"\n",
    "        prime+=1\n",
    "    else:\n",
    "        dict[i]=\"not prime\"\n",
    "prime_count = list(dict.values()).count(\"Prime\")\n",
    "print(f\"There are {prime_count} prime numbers in the dictionary.\")"
   ]
  },
  {
   "cell_type": "code",
   "execution_count": null,
   "id": "5c9bad26",
   "metadata": {},
   "outputs": [],
   "source": []
  }
 ],
 "metadata": {
  "kernelspec": {
   "display_name": "Python 3 (ipykernel)",
   "language": "python",
   "name": "python3"
  },
  "language_info": {
   "codemirror_mode": {
    "name": "ipython",
    "version": 3
   },
   "file_extension": ".py",
   "mimetype": "text/x-python",
   "name": "python",
   "nbconvert_exporter": "python",
   "pygments_lexer": "ipython3",
   "version": "3.11.1"
  }
 },
 "nbformat": 4,
 "nbformat_minor": 5
}
